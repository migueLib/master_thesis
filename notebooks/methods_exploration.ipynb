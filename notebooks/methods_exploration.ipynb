{
 "cells": [
  {
   "cell_type": "code",
   "execution_count": 25,
   "metadata": {},
   "outputs": [],
   "source": [
    "import os\n",
    "import cv2\n",
    "import pandas as pd\n",
    "import seaborn as sns\n",
    "import matplotlib.pyplot as plt\n",
    "import concurrent.futures"
   ]
  },
  {
   "cell_type": "code",
   "execution_count": 2,
   "metadata": {},
   "outputs": [
    {
     "name": "stdout",
     "output_type": "stream",
     "text": [
      "C:\\Users\\darkg\\PycharmProjects\\master_thesis\n"
     ]
    }
   ],
   "source": [
    "# Set working directory\n",
    "os.chdir(os.path.dirname(os.getcwd()))\n",
    "project_path = os.getcwd()\n",
    "print(project_path)"
   ]
  },
  {
   "cell_type": "code",
   "execution_count": 3,
   "metadata": {},
   "outputs": [],
   "source": [
    "# Load local libraries\n",
    "from src.Fundus import Fundus\n",
    "from src.get_info_from_name import get_info_from_name\n",
    "from src.logger import set_logger as sl"
   ]
  },
  {
   "cell_type": "code",
   "execution_count": 4,
   "metadata": {},
   "outputs": [
    {
     "data": {
      "text/html": [
       "<div>\n",
       "<style scoped>\n",
       "    .dataframe tbody tr th:only-of-type {\n",
       "        vertical-align: middle;\n",
       "    }\n",
       "\n",
       "    .dataframe tbody tr th {\n",
       "        vertical-align: top;\n",
       "    }\n",
       "\n",
       "    .dataframe thead th {\n",
       "        text-align: right;\n",
       "    }\n",
       "</style>\n",
       "<table border=\"1\" class=\"dataframe\">\n",
       "  <thead>\n",
       "    <tr style=\"text-align: right;\">\n",
       "      <th></th>\n",
       "      <th>file</th>\n",
       "      <th>sex</th>\n",
       "      <th>patient_id</th>\n",
       "      <th>eye_side</th>\n",
       "      <th>visit</th>\n",
       "      <th>replica</th>\n",
       "    </tr>\n",
       "  </thead>\n",
       "  <tbody>\n",
       "    <tr>\n",
       "      <th>0</th>\n",
       "      <td>1000180_21015_0_0.png</td>\n",
       "      <td>female</td>\n",
       "      <td>1000180</td>\n",
       "      <td>left</td>\n",
       "      <td>0</td>\n",
       "      <td>0</td>\n",
       "    </tr>\n",
       "    <tr>\n",
       "      <th>1</th>\n",
       "      <td>1000180_21016_0_0.png</td>\n",
       "      <td>female</td>\n",
       "      <td>1000180</td>\n",
       "      <td>right</td>\n",
       "      <td>0</td>\n",
       "      <td>0</td>\n",
       "    </tr>\n",
       "    <tr>\n",
       "      <th>2</th>\n",
       "      <td>1000303_21015_1_0.png</td>\n",
       "      <td>female</td>\n",
       "      <td>1000303</td>\n",
       "      <td>left</td>\n",
       "      <td>1</td>\n",
       "      <td>0</td>\n",
       "    </tr>\n",
       "    <tr>\n",
       "      <th>3</th>\n",
       "      <td>1000303_21016_1_0.png</td>\n",
       "      <td>female</td>\n",
       "      <td>1000303</td>\n",
       "      <td>right</td>\n",
       "      <td>1</td>\n",
       "      <td>0</td>\n",
       "    </tr>\n",
       "    <tr>\n",
       "      <th>4</th>\n",
       "      <td>1000390_21015_1_0.png</td>\n",
       "      <td>male</td>\n",
       "      <td>1000390</td>\n",
       "      <td>left</td>\n",
       "      <td>1</td>\n",
       "      <td>0</td>\n",
       "    </tr>\n",
       "  </tbody>\n",
       "</table>\n",
       "</div>"
      ],
      "text/plain": [
       "                    file     sex  patient_id eye_side  visit  replica\n",
       "0  1000180_21015_0_0.png  female     1000180     left      0        0\n",
       "1  1000180_21016_0_0.png  female     1000180    right      0        0\n",
       "2  1000303_21015_1_0.png  female     1000303     left      1        0\n",
       "3  1000303_21016_1_0.png  female     1000303    right      1        0\n",
       "4  1000390_21015_1_0.png    male     1000390     left      1        0"
      ]
     },
     "execution_count": 4,
     "metadata": {},
     "output_type": "execute_result"
    }
   ],
   "source": [
    "# Load file with metadata\n",
    "ukbb = pd.read_csv(\"./data/ukbb_metadata.csv\")\n",
    "ukbb.head()"
   ]
  },
  {
   "cell_type": "markdown",
   "metadata": {},
   "source": [
    "## Eye side"
   ]
  },
  {
   "cell_type": "code",
   "execution_count": 5,
   "metadata": {},
   "outputs": [
    {
     "data": {
      "text/plain": [
       "right    88156\n",
       "left     86830\n",
       "Name: eye_side, dtype: int64"
      ]
     },
     "execution_count": 5,
     "metadata": {},
     "output_type": "execute_result"
    }
   ],
   "source": [
    "ukbb.eye_side.value_counts()"
   ]
  },
  {
   "cell_type": "code",
   "execution_count": 6,
   "metadata": {},
   "outputs": [
    {
     "data": {
      "text/plain": [
       "right    0.503789\n",
       "left     0.496211\n",
       "Name: eye_side, dtype: float64"
      ]
     },
     "execution_count": 6,
     "metadata": {},
     "output_type": "execute_result"
    }
   ],
   "source": [
    "ukbb.eye_side.value_counts()/ukbb.shape[0]"
   ]
  },
  {
   "cell_type": "markdown",
   "metadata": {},
   "source": [
    "## Female/Male distribution"
   ]
  },
  {
   "cell_type": "markdown",
   "metadata": {},
   "source": [
    "### CFP"
   ]
  },
  {
   "cell_type": "code",
   "execution_count": 7,
   "metadata": {},
   "outputs": [
    {
     "data": {
      "text/plain": [
       "female    93753\n",
       "male      81233\n",
       "Name: sex, dtype: int64"
      ]
     },
     "execution_count": 7,
     "metadata": {},
     "output_type": "execute_result"
    }
   ],
   "source": [
    "ukbb.sex.value_counts()"
   ]
  },
  {
   "cell_type": "code",
   "execution_count": 8,
   "metadata": {},
   "outputs": [
    {
     "data": {
      "text/plain": [
       "female    0.535774\n",
       "male      0.464226\n",
       "Name: sex, dtype: float64"
      ]
     },
     "execution_count": 8,
     "metadata": {},
     "output_type": "execute_result"
    }
   ],
   "source": [
    "ukbb.sex.value_counts()/ukbb.shape[0]"
   ]
  },
  {
   "cell_type": "markdown",
   "metadata": {},
   "source": [
    "### Patients"
   ]
  },
  {
   "cell_type": "code",
   "execution_count": 9,
   "metadata": {},
   "outputs": [
    {
     "data": {
      "text/plain": [
       "85623"
      ]
     },
     "execution_count": 9,
     "metadata": {},
     "output_type": "execute_result"
    }
   ],
   "source": [
    "# Number of unique patients\n",
    "ukbb.patient_id.unique().shape[0]"
   ]
  },
  {
   "cell_type": "code",
   "execution_count": 10,
   "metadata": {},
   "outputs": [
    {
     "name": "stdout",
     "output_type": "stream",
     "text": [
      "female\t45948\t0.5366315125608774\n",
      "male\t39675\t0.4633684874391227\n"
     ]
    }
   ],
   "source": [
    "# Number of patients per sex\n",
    "for by, df in ukbb.groupby(\"sex\"):\n",
    "    print(by, df.patient_id.unique().shape[0], df.patient_id.unique().shape[0]/ukbb.patient_id.unique().shape[0], sep=\"\\t\")"
   ]
  },
  {
   "cell_type": "markdown",
   "metadata": {},
   "source": [
    "## Images"
   ]
  },
  {
   "cell_type": "code",
   "execution_count": 11,
   "metadata": {},
   "outputs": [],
   "source": [
    "data_path = os.path.abspath(f\"A:raw_300x300/\")"
   ]
  },
  {
   "cell_type": "code",
   "execution_count": 14,
   "metadata": {},
   "outputs": [
    {
     "data": {
      "image/png": "[encoded data removed]",
      "text/plain": [
       "<Figure size 288x288 with 1 Axes>"
      ]
     },
     "metadata": {
      "needs_background": "light"
     },
     "output_type": "display_data"
    }
   ],
   "source": [
    "example = os.path.join(data_path, os.listdir(data_path)[0])\n",
    "\n",
    "# Read image\n",
    "eye = Fundus(example)\n",
    "\n",
    "# Show image\n",
    "eye.show()"
   ]
  },
  {
   "cell_type": "code",
   "execution_count": 15,
   "metadata": {},
   "outputs": [
    {
     "data": {
      "text/plain": [
       "(300, 300)"
      ]
     },
     "execution_count": 15,
     "metadata": {},
     "output_type": "execute_result"
    }
   ],
   "source": [
    "# Dimensions \n",
    "eye.dim"
   ]
  },
  {
   "cell_type": "markdown",
   "metadata": {},
   "source": [
    "### Get RGB **mean** values for each image"
   ]
  },
  {
   "cell_type": "code",
   "execution_count": 16,
   "metadata": {},
   "outputs": [
    {
     "name": "stdout",
     "output_type": "stream",
     "text": [
      "Wall time: 6min 39s\n"
     ]
    }
   ],
   "source": [
    "%%time\n",
    "if not os.path.isfile(os.path.abspath(\"./data/ukbb_rgb_means.csv\")):\n",
    "    # Get mean RGB values as well as RGB standard deviation\n",
    "    def parallel_rgb_mean(f):\n",
    "        path = os.path.join(data_path, f)\n",
    "        eye = Fundus(path)\n",
    "        return path, eye.get_rgb_mean() \n",
    "\n",
    "    with concurrent.futures.ThreadPoolExecutor() as  executor:\n",
    "        results = executor.map(parallel_rgb_mean, ukbb.file)\n",
    "\n",
    "    # Get the results\n",
    "    results = [[os.path.basename(p), m[0], m[1], m[2]] for p, m in results]\n",
    "\n",
    "    # Save results\n",
    "    means = pd.DataFrame(results, columns=[\"file\",\"r\",\"g\",\"b\"])\n",
    "    means.to_csv(\"./data/ukbb_rgb_means.csv\", index=False)\n",
    "else:\n",
    "    # Load mean values\n",
    "    means = pd.read_csv(os.path.abspath(\"./data/ukbb_rgb_means.csv\"))"
   ]
  },
  {
   "cell_type": "markdown",
   "metadata": {},
   "source": [
    "### Get RGB **standar deviation** values for each image"
   ]
  },
  {
   "cell_type": "code",
   "execution_count": 21,
   "metadata": {},
   "outputs": [
    {
     "name": "stdout",
     "output_type": "stream",
     "text": [
      "Wall time: 7min 21s\n"
     ]
    }
   ],
   "source": [
    "%%time\n",
    "if not os.path.isfile(os.path.abspath(\"./data/ukbb_rgb_std.csv\")):\n",
    "    # Get mean RGB values as well as RGB standard deviation\n",
    "    def parallel_rgb_std(f):\n",
    "        path = os.path.join(data_path, f)\n",
    "        eye = Fundus(path)\n",
    "        return path, eye.get_rgb_std() \n",
    "\n",
    "    with concurrent.futures.ThreadPoolExecutor() as  executor:\n",
    "        results = executor.map(parallel_rgb_std, ukbb.file)\n",
    "\n",
    "    # Get the results\n",
    "    results = [[os.path.basename(p), s[0], s[1], s[2]] for p, s in results]\n",
    "\n",
    "    # Save results\n",
    "    std = pd.DataFrame(results, columns=[\"file\",\"r\",\"g\",\"b\"])\n",
    "    std.to_csv(\"./data/ukbb_rgb_std.csv\", index=False)\n",
    "else:\n",
    "    # Load std values\n",
    "    std = pd.read_csv(os.path.abspath(\"./data/ukbb_rgb_std.csv\"))"
   ]
  },
  {
   "cell_type": "code",
   "execution_count": 22,
   "metadata": {},
   "outputs": [
    {
     "data": {
      "text/html": [
       "<div>\n",
       "<style scoped>\n",
       "    .dataframe tbody tr th:only-of-type {\n",
       "        vertical-align: middle;\n",
       "    }\n",
       "\n",
       "    .dataframe tbody tr th {\n",
       "        vertical-align: top;\n",
       "    }\n",
       "\n",
       "    .dataframe thead th {\n",
       "        text-align: right;\n",
       "    }\n",
       "</style>\n",
       "<table border=\"1\" class=\"dataframe\">\n",
       "  <thead>\n",
       "    <tr style=\"text-align: right;\">\n",
       "      <th></th>\n",
       "      <th>file</th>\n",
       "      <th>r</th>\n",
       "      <th>g</th>\n",
       "      <th>b</th>\n",
       "    </tr>\n",
       "  </thead>\n",
       "  <tbody>\n",
       "    <tr>\n",
       "      <th>0</th>\n",
       "      <td>1000180_21015_0_0.png</td>\n",
       "      <td>21.730475</td>\n",
       "      <td>45.968781</td>\n",
       "      <td>89.803979</td>\n",
       "    </tr>\n",
       "    <tr>\n",
       "      <th>1</th>\n",
       "      <td>1000180_21016_0_0.png</td>\n",
       "      <td>15.548260</td>\n",
       "      <td>40.903174</td>\n",
       "      <td>81.531730</td>\n",
       "    </tr>\n",
       "    <tr>\n",
       "      <th>2</th>\n",
       "      <td>1000303_21015_1_0.png</td>\n",
       "      <td>11.619944</td>\n",
       "      <td>19.072421</td>\n",
       "      <td>30.874045</td>\n",
       "    </tr>\n",
       "    <tr>\n",
       "      <th>3</th>\n",
       "      <td>1000303_21016_1_0.png</td>\n",
       "      <td>2.848438</td>\n",
       "      <td>10.702676</td>\n",
       "      <td>24.873549</td>\n",
       "    </tr>\n",
       "    <tr>\n",
       "      <th>4</th>\n",
       "      <td>1000390_21015_1_0.png</td>\n",
       "      <td>15.526307</td>\n",
       "      <td>61.533357</td>\n",
       "      <td>109.975483</td>\n",
       "    </tr>\n",
       "    <tr>\n",
       "      <th>...</th>\n",
       "      <td>...</td>\n",
       "      <td>...</td>\n",
       "      <td>...</td>\n",
       "      <td>...</td>\n",
       "    </tr>\n",
       "    <tr>\n",
       "      <th>174981</th>\n",
       "      <td>6025089_21016_0_0.png</td>\n",
       "      <td>12.131803</td>\n",
       "      <td>47.802913</td>\n",
       "      <td>106.459436</td>\n",
       "    </tr>\n",
       "    <tr>\n",
       "      <th>174982</th>\n",
       "      <td>6025245_21016_0_0.png</td>\n",
       "      <td>11.546777</td>\n",
       "      <td>27.239413</td>\n",
       "      <td>54.992586</td>\n",
       "    </tr>\n",
       "    <tr>\n",
       "      <th>174983</th>\n",
       "      <td>6025315_21016_0_0.png</td>\n",
       "      <td>34.993228</td>\n",
       "      <td>63.997688</td>\n",
       "      <td>108.825957</td>\n",
       "    </tr>\n",
       "    <tr>\n",
       "      <th>174984</th>\n",
       "      <td>6025327_21016_1_0.png</td>\n",
       "      <td>9.144564</td>\n",
       "      <td>25.774594</td>\n",
       "      <td>56.621171</td>\n",
       "    </tr>\n",
       "    <tr>\n",
       "      <th>174985</th>\n",
       "      <td>6025418_21016_0_0.png</td>\n",
       "      <td>6.539359</td>\n",
       "      <td>15.259859</td>\n",
       "      <td>27.766729</td>\n",
       "    </tr>\n",
       "  </tbody>\n",
       "</table>\n",
       "<p>174986 rows × 4 columns</p>\n",
       "</div>"
      ],
      "text/plain": [
       "                         file          r          g           b\n",
       "0       1000180_21015_0_0.png  21.730475  45.968781   89.803979\n",
       "1       1000180_21016_0_0.png  15.548260  40.903174   81.531730\n",
       "2       1000303_21015_1_0.png  11.619944  19.072421   30.874045\n",
       "3       1000303_21016_1_0.png   2.848438  10.702676   24.873549\n",
       "4       1000390_21015_1_0.png  15.526307  61.533357  109.975483\n",
       "...                       ...        ...        ...         ...\n",
       "174981  6025089_21016_0_0.png  12.131803  47.802913  106.459436\n",
       "174982  6025245_21016_0_0.png  11.546777  27.239413   54.992586\n",
       "174983  6025315_21016_0_0.png  34.993228  63.997688  108.825957\n",
       "174984  6025327_21016_1_0.png   9.144564  25.774594   56.621171\n",
       "174985  6025418_21016_0_0.png   6.539359  15.259859   27.766729\n",
       "\n",
       "[174986 rows x 4 columns]"
      ]
     },
     "execution_count": 22,
     "metadata": {},
     "output_type": "execute_result"
    }
   ],
   "source": [
    "std"
   ]
  },
  {
   "cell_type": "code",
   "execution_count": null,
   "metadata": {},
   "outputs": [],
   "source": []
  }
 ],
 "metadata": {
  "kernelspec": {
   "display_name": "Python 3",
   "language": "python",
   "name": "python3"
  },
  "language_info": {
   "codemirror_mode": {
    "name": "ipython",
    "version": 3
   },
   "file_extension": ".py",
   "mimetype": "text/x-python",
   "name": "python",
   "nbconvert_exporter": "python",
   "pygments_lexer": "ipython3",
   "version": "3.7.9"
  }
 },
 "nbformat": 4,
 "nbformat_minor": 4
}
