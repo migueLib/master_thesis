{
 "cells": [
  {
   "cell_type": "code",
   "execution_count": 1,
   "metadata": {},
   "outputs": [],
   "source": [
    "import os\n",
    "from os.path import abspath, isfile, basename, join\n",
    "import cv2\n",
    "\n",
    "import pandas as pd\n",
    "import seaborn as sns\n",
    "import matplotlib.pyplot as plt\n",
    "import concurrent.futures"
   ]
  },
  {
   "cell_type": "code",
   "execution_count": 2,
   "metadata": {},
   "outputs": [
    {
     "name": "stdout",
     "output_type": "stream",
     "text": [
      "/home/ubuntu/master_thesis\n"
     ]
    }
   ],
   "source": [
    "# Set working directory\n",
    "os.chdir(os.path.dirname(os.getcwd()))\n",
    "project_path = os.getcwd()\n",
    "print(project_path)"
   ]
  },
  {
   "cell_type": "code",
   "execution_count": 3,
   "metadata": {},
   "outputs": [],
   "source": [
    "# Load local libraries\n",
    "from src.Fundus import Fundus\n",
    "from src.get_info_from_name import get_info_from_name\n",
    "from src.logger import set_logger as sl"
   ]
  },
  {
   "cell_type": "code",
   "execution_count": 4,
   "metadata": {},
   "outputs": [
    {
     "data": {
      "text/html": [
       "<div>\n",
       "<style scoped>\n",
       "    .dataframe tbody tr th:only-of-type {\n",
       "        vertical-align: middle;\n",
       "    }\n",
       "\n",
       "    .dataframe tbody tr th {\n",
       "        vertical-align: top;\n",
       "    }\n",
       "\n",
       "    .dataframe thead th {\n",
       "        text-align: right;\n",
       "    }\n",
       "</style>\n",
       "<table border=\"1\" class=\"dataframe\">\n",
       "  <thead>\n",
       "    <tr style=\"text-align: right;\">\n",
       "      <th></th>\n",
       "      <th>file</th>\n",
       "      <th>sex</th>\n",
       "      <th>patient_id</th>\n",
       "      <th>eye_side</th>\n",
       "      <th>visit</th>\n",
       "      <th>replica</th>\n",
       "    </tr>\n",
       "  </thead>\n",
       "  <tbody>\n",
       "    <tr>\n",
       "      <th>0</th>\n",
       "      <td>1000180_21015_0_0.png</td>\n",
       "      <td>female</td>\n",
       "      <td>1000180</td>\n",
       "      <td>left</td>\n",
       "      <td>0</td>\n",
       "      <td>0</td>\n",
       "    </tr>\n",
       "    <tr>\n",
       "      <th>1</th>\n",
       "      <td>1000180_21016_0_0.png</td>\n",
       "      <td>female</td>\n",
       "      <td>1000180</td>\n",
       "      <td>right</td>\n",
       "      <td>0</td>\n",
       "      <td>0</td>\n",
       "    </tr>\n",
       "    <tr>\n",
       "      <th>2</th>\n",
       "      <td>1000303_21015_1_0.png</td>\n",
       "      <td>female</td>\n",
       "      <td>1000303</td>\n",
       "      <td>left</td>\n",
       "      <td>1</td>\n",
       "      <td>0</td>\n",
       "    </tr>\n",
       "    <tr>\n",
       "      <th>3</th>\n",
       "      <td>1000303_21016_1_0.png</td>\n",
       "      <td>female</td>\n",
       "      <td>1000303</td>\n",
       "      <td>right</td>\n",
       "      <td>1</td>\n",
       "      <td>0</td>\n",
       "    </tr>\n",
       "    <tr>\n",
       "      <th>4</th>\n",
       "      <td>1000390_21015_1_0.png</td>\n",
       "      <td>male</td>\n",
       "      <td>1000390</td>\n",
       "      <td>left</td>\n",
       "      <td>1</td>\n",
       "      <td>0</td>\n",
       "    </tr>\n",
       "  </tbody>\n",
       "</table>\n",
       "</div>"
      ],
      "text/plain": [
       "                    file     sex  patient_id eye_side  visit  replica\n",
       "0  1000180_21015_0_0.png  female     1000180     left      0        0\n",
       "1  1000180_21016_0_0.png  female     1000180    right      0        0\n",
       "2  1000303_21015_1_0.png  female     1000303     left      1        0\n",
       "3  1000303_21016_1_0.png  female     1000303    right      1        0\n",
       "4  1000390_21015_1_0.png    male     1000390     left      1        0"
      ]
     },
     "execution_count": 4,
     "metadata": {},
     "output_type": "execute_result"
    }
   ],
   "source": [
    "# Load file with metadata\n",
    "ukbb = pd.read_csv(\"./data/ukbb_metadata.csv\")\n",
    "ukbb.head()"
   ]
  },
  {
   "cell_type": "markdown",
   "metadata": {},
   "source": [
    "## Eye side"
   ]
  },
  {
   "cell_type": "code",
   "execution_count": 5,
   "metadata": {},
   "outputs": [
    {
     "data": {
      "text/plain": [
       "right    88156\n",
       "left     86830\n",
       "Name: eye_side, dtype: int64"
      ]
     },
     "execution_count": 5,
     "metadata": {},
     "output_type": "execute_result"
    }
   ],
   "source": [
    "ukbb.eye_side.value_counts()"
   ]
  },
  {
   "cell_type": "code",
   "execution_count": 6,
   "metadata": {},
   "outputs": [
    {
     "data": {
      "text/plain": [
       "right    0.503789\n",
       "left     0.496211\n",
       "Name: eye_side, dtype: float64"
      ]
     },
     "execution_count": 6,
     "metadata": {},
     "output_type": "execute_result"
    }
   ],
   "source": [
    "ukbb.eye_side.value_counts()/ukbb.shape[0]"
   ]
  },
  {
   "cell_type": "markdown",
   "metadata": {},
   "source": [
    "## Female/Male distribution"
   ]
  },
  {
   "cell_type": "markdown",
   "metadata": {},
   "source": [
    "### CFP"
   ]
  },
  {
   "cell_type": "code",
   "execution_count": 7,
   "metadata": {},
   "outputs": [
    {
     "data": {
      "text/plain": [
       "female    93753\n",
       "male      81233\n",
       "Name: sex, dtype: int64"
      ]
     },
     "execution_count": 7,
     "metadata": {},
     "output_type": "execute_result"
    }
   ],
   "source": [
    "ukbb.sex.value_counts()"
   ]
  },
  {
   "cell_type": "code",
   "execution_count": 8,
   "metadata": {},
   "outputs": [
    {
     "data": {
      "text/plain": [
       "female    0.535774\n",
       "male      0.464226\n",
       "Name: sex, dtype: float64"
      ]
     },
     "execution_count": 8,
     "metadata": {},
     "output_type": "execute_result"
    }
   ],
   "source": [
    "ukbb.sex.value_counts()/ukbb.shape[0]"
   ]
  },
  {
   "cell_type": "markdown",
   "metadata": {},
   "source": [
    "### Patients"
   ]
  },
  {
   "cell_type": "code",
   "execution_count": 9,
   "metadata": {},
   "outputs": [
    {
     "data": {
      "text/plain": [
       "85623"
      ]
     },
     "execution_count": 9,
     "metadata": {},
     "output_type": "execute_result"
    }
   ],
   "source": [
    "# Number of unique patients\n",
    "ukbb.patient_id.unique().shape[0]"
   ]
  },
  {
   "cell_type": "code",
   "execution_count": 10,
   "metadata": {},
   "outputs": [
    {
     "name": "stdout",
     "output_type": "stream",
     "text": [
      "female\t45948\t0.5366315125608774\n",
      "male\t39675\t0.4633684874391227\n"
     ]
    }
   ],
   "source": [
    "# Number of patients per sex\n",
    "for by, df in ukbb.groupby(\"sex\"):\n",
    "    print(by, df.patient_id.unique().shape[0], df.patient_id.unique().shape[0]/ukbb.patient_id.unique().shape[0], sep=\"\\t\")"
   ]
  },
  {
   "cell_type": "markdown",
   "metadata": {},
   "source": [
    "## Images"
   ]
  },
  {
   "cell_type": "code",
   "execution_count": 11,
   "metadata": {},
   "outputs": [],
   "source": [
    "data_path = os.path.abspath(f\"/mnt/data/ukbb/\")"
   ]
  },
  {
   "cell_type": "code",
   "execution_count": 12,
   "metadata": {},
   "outputs": [
    {
     "data": {
      "image/png": "[encoded data removed]",
      "text/plain": [
       "<Figure size 384x288 with 1 Axes>"
      ]
     },
     "metadata": {
      "needs_background": "light"
     },
     "output_type": "display_data"
    }
   ],
   "source": [
    "example = os.path.join(data_path, os.listdir(data_path)[2])\n",
    "\n",
    "# Read image\n",
    "eye = Fundus(example)\n",
    "\n",
    "# Show image\n",
    "eye.show()"
   ]
  },
  {
   "cell_type": "code",
   "execution_count": 13,
   "metadata": {},
   "outputs": [
    {
     "data": {
      "text/plain": [
       "(1536, 2048, 3)"
      ]
     },
     "execution_count": 13,
     "metadata": {},
     "output_type": "execute_result"
    }
   ],
   "source": [
    "# Dimensions \n",
    "eye.im.shape"
   ]
  },
  {
   "cell_type": "markdown",
   "metadata": {},
   "source": [
    "### Get min, max, mean, median and standar deviation for each RGB channel per image"
   ]
  },
  {
   "cell_type": "code",
   "execution_count": 14,
   "metadata": {},
   "outputs": [],
   "source": [
    "def parallel_stats(f):\n",
    "    path = join(data_path, f)\n",
    "    eye = Fundus(path)\n",
    "    return path, eye.get_rgb_stats()"
   ]
  },
  {
   "cell_type": "code",
   "execution_count": 15,
   "metadata": {},
   "outputs": [],
   "source": [
    "def parallel_stats_threshold(f):\n",
    "    path = join(data_path, f)\n",
    "    eye = Fundus(path)\n",
    "    mask = eye.get_threshold_mask(mode=\"sum\", threshold=1)\n",
    "    return path, eye.get_rgb_stats(mask)"
   ]
  },
  {
   "cell_type": "code",
   "execution_count": 16,
   "metadata": {},
   "outputs": [],
   "source": [
    "colnames = [\"file\", \"min_r\", \"min_g\", \"min_b\", \"max_r\", \"max_g\", \"max_b\", \"med_r\", \"med_g\", \"med_b\", \"mea_r\", \"mea_g\", \"mea_b\", \"std_r\", \"std_g\", \"std_b\" ]"
   ]
  },
  {
   "cell_type": "code",
   "execution_count": 17,
   "metadata": {},
   "outputs": [],
   "source": [
    "# Absolute pathways\n",
    "data_path = abspath(\"/mnt/data/ukbb/\")\n",
    "labels = abspath(\"./data/ukbb_metadata.csv\")\n",
    "\n",
    "# Read UKBB labels\n",
    "ukbb = pd.read_csv(labels)"
   ]
  },
  {
   "cell_type": "markdown",
   "metadata": {},
   "source": [
    "##### For RAW Images"
   ]
  },
  {
   "cell_type": "code",
   "execution_count": 18,
   "metadata": {},
   "outputs": [
    {
     "name": "stdout",
     "output_type": "stream",
     "text": [
      "CPU times: user 233 ms, sys: 24.2 ms, total: 257 ms\n",
      "Wall time: 259 ms\n"
     ]
    }
   ],
   "source": [
    "%%time\n",
    "# For RAW \n",
    "outfile = abspath(\"./out/ukbb_rgb_stats.csv\")\n",
    "\n",
    "# This will do the normal images\n",
    "if not isfile(outfile):\n",
    "    with concurrent.futures.ThreadPoolExecutor() as executor:\n",
    "        results = executor.map(parallel_stats, ukbb.file)\n",
    "\n",
    "    # Get the results\n",
    "    results = [[basename(p)]+list(s) for p, s in results]\n",
    "\n",
    "    # Save the results\n",
    "    ukbb_stats = pd.DataFrame(results, columns=colnames)\n",
    "    ukbb_stats.to_csv(outfile, index=False)\n",
    "else:\n",
    "    ukbb_stats = pd.read_csv(outfile)"
   ]
  },
  {
   "cell_type": "code",
   "execution_count": 19,
   "metadata": {},
   "outputs": [
    {
     "data": {
      "text/html": [
       "<div>\n",
       "<style scoped>\n",
       "    .dataframe tbody tr th:only-of-type {\n",
       "        vertical-align: middle;\n",
       "    }\n",
       "\n",
       "    .dataframe tbody tr th {\n",
       "        vertical-align: top;\n",
       "    }\n",
       "\n",
       "    .dataframe thead th {\n",
       "        text-align: right;\n",
       "    }\n",
       "</style>\n",
       "<table border=\"1\" class=\"dataframe\">\n",
       "  <thead>\n",
       "    <tr style=\"text-align: right;\">\n",
       "      <th></th>\n",
       "      <th>file</th>\n",
       "      <th>min_r</th>\n",
       "      <th>min_g</th>\n",
       "      <th>min_b</th>\n",
       "      <th>max_r</th>\n",
       "      <th>max_g</th>\n",
       "      <th>max_b</th>\n",
       "      <th>med_r</th>\n",
       "      <th>med_g</th>\n",
       "      <th>med_b</th>\n",
       "      <th>mea_r</th>\n",
       "      <th>mea_g</th>\n",
       "      <th>mea_b</th>\n",
       "      <th>std_r</th>\n",
       "      <th>std_g</th>\n",
       "      <th>std_b</th>\n",
       "    </tr>\n",
       "  </thead>\n",
       "  <tbody>\n",
       "    <tr>\n",
       "      <th>5947</th>\n",
       "      <td>1169844_21015_1_0.png</td>\n",
       "      <td>0</td>\n",
       "      <td>0</td>\n",
       "      <td>0</td>\n",
       "      <td>0</td>\n",
       "      <td>0</td>\n",
       "      <td>0</td>\n",
       "      <td>0.0</td>\n",
       "      <td>0.0</td>\n",
       "      <td>0.0</td>\n",
       "      <td>0.0</td>\n",
       "      <td>0.0</td>\n",
       "      <td>0.0</td>\n",
       "      <td>0.0</td>\n",
       "      <td>0.0</td>\n",
       "      <td>0.0</td>\n",
       "    </tr>\n",
       "    <tr>\n",
       "      <th>69400</th>\n",
       "      <td>2999106_21015_1_0.png</td>\n",
       "      <td>0</td>\n",
       "      <td>0</td>\n",
       "      <td>0</td>\n",
       "      <td>0</td>\n",
       "      <td>0</td>\n",
       "      <td>0</td>\n",
       "      <td>0.0</td>\n",
       "      <td>0.0</td>\n",
       "      <td>0.0</td>\n",
       "      <td>0.0</td>\n",
       "      <td>0.0</td>\n",
       "      <td>0.0</td>\n",
       "      <td>0.0</td>\n",
       "      <td>0.0</td>\n",
       "      <td>0.0</td>\n",
       "    </tr>\n",
       "    <tr>\n",
       "      <th>70550</th>\n",
       "      <td>3030697_21015_1_0.png</td>\n",
       "      <td>0</td>\n",
       "      <td>0</td>\n",
       "      <td>0</td>\n",
       "      <td>0</td>\n",
       "      <td>0</td>\n",
       "      <td>0</td>\n",
       "      <td>0.0</td>\n",
       "      <td>0.0</td>\n",
       "      <td>0.0</td>\n",
       "      <td>0.0</td>\n",
       "      <td>0.0</td>\n",
       "      <td>0.0</td>\n",
       "      <td>0.0</td>\n",
       "      <td>0.0</td>\n",
       "      <td>0.0</td>\n",
       "    </tr>\n",
       "    <tr>\n",
       "      <th>78253</th>\n",
       "      <td>3247964_21015_1_0.png</td>\n",
       "      <td>0</td>\n",
       "      <td>0</td>\n",
       "      <td>0</td>\n",
       "      <td>0</td>\n",
       "      <td>0</td>\n",
       "      <td>0</td>\n",
       "      <td>0.0</td>\n",
       "      <td>0.0</td>\n",
       "      <td>0.0</td>\n",
       "      <td>0.0</td>\n",
       "      <td>0.0</td>\n",
       "      <td>0.0</td>\n",
       "      <td>0.0</td>\n",
       "      <td>0.0</td>\n",
       "      <td>0.0</td>\n",
       "    </tr>\n",
       "    <tr>\n",
       "      <th>130993</th>\n",
       "      <td>4759649_21015_1_0.png</td>\n",
       "      <td>0</td>\n",
       "      <td>0</td>\n",
       "      <td>0</td>\n",
       "      <td>0</td>\n",
       "      <td>0</td>\n",
       "      <td>0</td>\n",
       "      <td>0.0</td>\n",
       "      <td>0.0</td>\n",
       "      <td>0.0</td>\n",
       "      <td>0.0</td>\n",
       "      <td>0.0</td>\n",
       "      <td>0.0</td>\n",
       "      <td>0.0</td>\n",
       "      <td>0.0</td>\n",
       "      <td>0.0</td>\n",
       "    </tr>\n",
       "  </tbody>\n",
       "</table>\n",
       "</div>"
      ],
      "text/plain": [
       "                         file  min_r  min_g  min_b  max_r  max_g  max_b  \\\n",
       "5947    1169844_21015_1_0.png      0      0      0      0      0      0   \n",
       "69400   2999106_21015_1_0.png      0      0      0      0      0      0   \n",
       "70550   3030697_21015_1_0.png      0      0      0      0      0      0   \n",
       "78253   3247964_21015_1_0.png      0      0      0      0      0      0   \n",
       "130993  4759649_21015_1_0.png      0      0      0      0      0      0   \n",
       "\n",
       "        med_r  med_g  med_b  mea_r  mea_g  mea_b  std_r  std_g  std_b  \n",
       "5947      0.0    0.0    0.0    0.0    0.0    0.0    0.0    0.0    0.0  \n",
       "69400     0.0    0.0    0.0    0.0    0.0    0.0    0.0    0.0    0.0  \n",
       "70550     0.0    0.0    0.0    0.0    0.0    0.0    0.0    0.0    0.0  \n",
       "78253     0.0    0.0    0.0    0.0    0.0    0.0    0.0    0.0    0.0  \n",
       "130993    0.0    0.0    0.0    0.0    0.0    0.0    0.0    0.0    0.0  "
      ]
     },
     "execution_count": 19,
     "metadata": {},
     "output_type": "execute_result"
    }
   ],
   "source": [
    "# This is to avoid images that area only black pixels\n",
    "siblack = ukbb_stats[(ukbb_stats.max_r == 0) & (ukbb_stats.max_g == 0) & (ukbb_stats.max_b == 0)]\n",
    "noblack = ukbb_stats[~((ukbb_stats.max_r == 0) & (ukbb_stats.max_g == 0) & (ukbb_stats.max_b == 0))]\n",
    "siblack"
   ]
  },
  {
   "cell_type": "markdown",
   "metadata": {},
   "source": [
    "#### For masked Images"
   ]
  },
  {
   "cell_type": "code",
   "execution_count": 20,
   "metadata": {},
   "outputs": [
    {
     "name": "stdout",
     "output_type": "stream",
     "text": [
      "CPU times: user 234 ms, sys: 32.4 ms, total: 267 ms\n",
      "Wall time: 268 ms\n"
     ]
    }
   ],
   "source": [
    "%%time\n",
    "# For RAW \n",
    "outfile = abspath(\"./out/ukbb_rgb_stats_masked.csv\")\n",
    "\n",
    "# This will do it for the masked images\n",
    "if not isfile(abspath(outfile)):\n",
    "    with concurrent.futures.ThreadPoolExecutor() as executor:\n",
    "        results = executor.map(parallel_stats, noblack.file)\n",
    "\n",
    "    # Get the results\n",
    "    results = [[basename(p)]+list(s) for p, s in results]\n",
    "\n",
    "    # Save the results\n",
    "    ukbb_thr_stats = pd.DataFrame(results, columns=colnames)\n",
    "    ukbb_thr_stats.to_csv(outfile, index=False)\n",
    "else:\n",
    "    ukbb_thr_stats = pd.read_csv(outfile)"
   ]
  },
  {
   "cell_type": "code",
   "execution_count": 21,
   "metadata": {},
   "outputs": [
    {
     "data": {
      "image/png": "[encoded data removed]",
      "text/plain": [
       "<Figure size 720x432 with 1 Axes>"
      ]
     },
     "metadata": {},
     "output_type": "display_data"
    }
   ],
   "source": [
    "pal = sns.color_palette(\"deep\")\n",
    "sns.set_palette([pal[3],pal[2],pal[0]])\n",
    "sns.set_style(\"whitegrid\")\n",
    "\n",
    "f, ax = plt.subplots(1, 1, figsize=(10,6))\n",
    "sns.boxplot(data=ukbb_thr_stats[[\"max_r\",\"max_g\",\"max_b\"]], ax=ax)\n",
    "ax.set_title(\"Image Max RGB\")\n",
    "ax.set_xticklabels([\"R\", \"G\", \"B\"], size=14)\n",
    "sns.despine(left=True, bottom=True)\n",
    "f.savefig(abspath(\"./out/figures/stats_thr-max.png\"))\n",
    "f.savefig(abspath(\"./out/figures/stats_thr-max.svg\"))"
   ]
  },
  {
   "cell_type": "code",
   "execution_count": 22,
   "metadata": {},
   "outputs": [
    {
     "data": {
      "image/png": "[encoded data removed]",
      "text/plain": [
       "<Figure size 720x432 with 1 Axes>"
      ]
     },
     "metadata": {},
     "output_type": "display_data"
    }
   ],
   "source": [
    "f, ax = plt.subplots(1, 1, figsize=(10,6))\n",
    "sns.boxplot(data=ukbb_thr_stats[[\"med_r\",\"med_g\",\"med_b\"]])\n",
    "ax.set_title(\"Image Median RGB\")\n",
    "ax.set_xticklabels([\"R\", \"G\", \"B\"], size=14)\n",
    "sns.despine(left=True, bottom=True)\n",
    "f.savefig(abspath(\"./out/figures/stats_thr-med.png\"))\n",
    "f.savefig(abspath(\"./out/figures/stats_thr-med.svg\"))"
   ]
  },
  {
   "cell_type": "code",
   "execution_count": 23,
   "metadata": {},
   "outputs": [
    {
     "data": {
      "image/png": "[encoded data removed]",
      "text/plain": [
       "<Figure size 720x432 with 1 Axes>"
      ]
     },
     "metadata": {},
     "output_type": "display_data"
    }
   ],
   "source": [
    "f, ax = plt.subplots(1, 1, figsize=(10,6))\n",
    "sns.boxplot(data=ukbb_thr_stats[[\"mea_r\",\"mea_g\",\"mea_b\"]])\n",
    "ax.set_title(\"Image Mean RGB\")\n",
    "ax.set_xticklabels([\"R\", \"G\", \"B\"], size=14)\n",
    "sns.despine(left=True, bottom=True)\n",
    "f.savefig(abspath(\"./out/figures/stats_thr-mean.png\"))\n",
    "f.savefig(abspath(\"./out/figures/stats_thr-mean.svg\"))"
   ]
  },
  {
   "cell_type": "code",
   "execution_count": 24,
   "metadata": {},
   "outputs": [
    {
     "data": {
      "image/png": "[encoded data removed]",
      "text/plain": [
       "<Figure size 720x432 with 1 Axes>"
      ]
     },
     "metadata": {},
     "output_type": "display_data"
    }
   ],
   "source": [
    "f, ax = plt.subplots(1, 1, figsize=(10,6))\n",
    "sns.boxplot(data=ukbb_stats[[\"mea_r\",\"mea_g\",\"mea_b\"]])\n",
    "ax.set_title(\"Image Mean RGB\")\n",
    "ax.set_xticklabels([\"R\", \"G\", \"B\"], size=14)\n",
    "sns.despine(left=True, bottom=True)\n",
    "f.savefig(abspath(\"./out/figures/stats-mean.png\"))\n",
    "f.savefig(abspath(\"./out/figures/stats-mean.svg\"))"
   ]
  },
  {
   "cell_type": "code",
   "execution_count": 25,
   "metadata": {},
   "outputs": [
    {
     "data": {
      "image/png": "[encoded data removed]",
      "text/plain": [
       "<Figure size 720x432 with 1 Axes>"
      ]
     },
     "metadata": {},
     "output_type": "display_data"
    }
   ],
   "source": [
    "f, ax = plt.subplots(1, 1, figsize=(10,6))\n",
    "sns.boxplot(data=ukbb_thr_stats[[\"std_r\",\"std_g\",\"std_b\"]])\n",
    "ax.set_title(\"Image Standard Deviation RGB\")\n",
    "ax.set_xticklabels([\"R\", \"G\", \"B\"], size=14)\n",
    "sns.despine(left=True, bottom=True)\n",
    "f.savefig(abspath(\"./out/figures/stats_thr-std.png\"))\n",
    "f.savefig(abspath(\"./out/figures/stats_thr-std.svg\"))"
   ]
  },
  {
   "cell_type": "code",
   "execution_count": 26,
   "metadata": {},
   "outputs": [
    {
     "data": {
      "text/plain": [
       "min_r      0.000000\n",
       "min_g      0.000000\n",
       "min_b      0.000000\n",
       "max_r    197.671111\n",
       "max_g    223.175671\n",
       "max_b    242.908176\n",
       "med_r      0.136714\n",
       "med_g      0.251066\n",
       "med_b      0.328075\n",
       "mea_r     13.987220\n",
       "mea_g     37.616741\n",
       "mea_b     73.192362\n",
       "std_r     17.674694\n",
       "std_g     42.551816\n",
       "std_b     81.068393\n",
       "dtype: float64"
      ]
     },
     "execution_count": 26,
     "metadata": {},
     "output_type": "execute_result"
    }
   ],
   "source": [
    "ukbb_stats.mean(axis=0)"
   ]
  },
  {
   "cell_type": "code",
   "execution_count": 27,
   "metadata": {},
   "outputs": [
    {
     "data": {
      "text/plain": [
       "min_r      0.000000\n",
       "min_g      0.000000\n",
       "min_b      0.000000\n",
       "max_r    197.676759\n",
       "max_g    223.182048\n",
       "max_b    242.915116\n",
       "med_r     26.953981\n",
       "med_g     78.009427\n",
       "med_b    158.061635\n",
       "mea_r     29.005900\n",
       "mea_g     78.443045\n",
       "mea_b    152.892694\n",
       "std_r     13.532497\n",
       "std_g     22.657549\n",
       "std_b     36.719169\n",
       "dtype: float64"
      ]
     },
     "execution_count": 27,
     "metadata": {},
     "output_type": "execute_result"
    }
   ],
   "source": [
    "ukbb_thr_stats.mean(axis=0)"
   ]
  },
  {
   "cell_type": "code",
   "execution_count": null,
   "metadata": {},
   "outputs": [],
   "source": []
  }
 ],
 "metadata": {
  "kernelspec": {
   "display_name": "Python 3",
   "language": "python",
   "name": "python3"
  },
  "language_info": {
   "codemirror_mode": {
    "name": "ipython",
    "version": 3
   },
   "file_extension": ".py",
   "mimetype": "text/x-python",
   "name": "python",
   "nbconvert_exporter": "python",
   "pygments_lexer": "ipython3",
   "version": "3.7.10"
  }
 },
 "nbformat": 4,
 "nbformat_minor": 4
}
