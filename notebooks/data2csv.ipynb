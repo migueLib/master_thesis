{
 "cells": [
  {
   "cell_type": "code",
   "execution_count": 1,
   "metadata": {},
   "outputs": [],
   "source": [
    "# Imports\n",
    "import os\n",
    "import pickle\n",
    "import pandas as pd"
   ]
  },
  {
   "cell_type": "code",
   "execution_count": 2,
   "metadata": {},
   "outputs": [],
   "source": [
    "# Load pickle files\n",
    "with open(\"/home/ibarra/master_thesis/data/pickles/all-males.pkl\",\"rb\") as MALES:\n",
    "    males = pickle.load(MALES)\n",
    "    \n",
    "with open(\"/home/ibarra/master_thesis/data/pickles/all-females.pkl\",\"rb\") as FEMALES:\n",
    "    females = pickle.load(FEMALES)"
   ]
  },
  {
   "cell_type": "code",
   "execution_count": 3,
   "metadata": {},
   "outputs": [],
   "source": [
    "# Add 'male', 'female' flag to file name\n",
    "malesmeta = [[i,\"male\"] for i in males]\n",
    "femalesmeta = [[i,\"female\"] for i in females]\n",
    "\n",
    "# Create a dataframe and save it to a csv\n",
    "allfundus_frame = pd.DataFrame(malesmeta+femalesmeta, columns=[\"file\",\"sex\"])\n",
    "allfundus_frame.to_csv(\"/home/ibarra/master_thesis/data/fundus_sex.csv\", index=False)"
   ]
  },
  {
   "cell_type": "code",
   "execution_count": null,
   "metadata": {},
   "outputs": [],
   "source": []
  }
 ],
 "metadata": {
  "kernelspec": {
   "display_name": "stable",
   "language": "python",
   "name": "stable"
  },
  "language_info": {
   "codemirror_mode": {
    "name": "ipython",
    "version": 3
   },
   "file_extension": ".py",
   "mimetype": "text/x-python",
   "name": "python",
   "nbconvert_exporter": "python",
   "pygments_lexer": "ipython3",
   "version": "3.7.9"
  }
 },
 "nbformat": 4,
 "nbformat_minor": 4
}
