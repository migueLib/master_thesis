{
 "cells": [
  {
   "cell_type": "code",
   "execution_count": 1,
   "metadata": {},
   "outputs": [],
   "source": [
    "import os\n",
    "from os.path import abspath\n",
    "import pickle\n",
    "import pandas as pd\n",
    "from sklearn.model_selection import train_test_split"
   ]
  },
  {
   "cell_type": "code",
   "execution_count": 2,
   "metadata": {},
   "outputs": [
    {
     "name": "stdout",
     "output_type": "stream",
     "text": [
      "/home/ubuntu/master_thesis\n"
     ]
    }
   ],
   "source": [
    "# Set working directory\n",
    "os.chdir(os.path.dirname(os.getcwd()))\n",
    "print(os.getcwd())"
   ]
  },
  {
   "cell_type": "code",
   "execution_count": 3,
   "metadata": {},
   "outputs": [
    {
     "data": {
      "text/html": [
       "<div>\n",
       "<style scoped>\n",
       "    .dataframe tbody tr th:only-of-type {\n",
       "        vertical-align: middle;\n",
       "    }\n",
       "\n",
       "    .dataframe tbody tr th {\n",
       "        vertical-align: top;\n",
       "    }\n",
       "\n",
       "    .dataframe thead th {\n",
       "        text-align: right;\n",
       "    }\n",
       "</style>\n",
       "<table border=\"1\" class=\"dataframe\">\n",
       "  <thead>\n",
       "    <tr style=\"text-align: right;\">\n",
       "      <th></th>\n",
       "      <th>file</th>\n",
       "      <th>sex</th>\n",
       "      <th>patient_id</th>\n",
       "      <th>eye_side</th>\n",
       "      <th>visit</th>\n",
       "      <th>replica</th>\n",
       "      <th>cleaned</th>\n",
       "    </tr>\n",
       "  </thead>\n",
       "  <tbody>\n",
       "    <tr>\n",
       "      <th>0</th>\n",
       "      <td>1000180_21015_0_0.png</td>\n",
       "      <td>female</td>\n",
       "      <td>1000180</td>\n",
       "      <td>left</td>\n",
       "      <td>0</td>\n",
       "      <td>0</td>\n",
       "      <td>True</td>\n",
       "    </tr>\n",
       "    <tr>\n",
       "      <th>1</th>\n",
       "      <td>1000180_21016_0_0.png</td>\n",
       "      <td>female</td>\n",
       "      <td>1000180</td>\n",
       "      <td>right</td>\n",
       "      <td>0</td>\n",
       "      <td>0</td>\n",
       "      <td>True</td>\n",
       "    </tr>\n",
       "    <tr>\n",
       "      <th>2</th>\n",
       "      <td>1000303_21015_1_0.png</td>\n",
       "      <td>female</td>\n",
       "      <td>1000303</td>\n",
       "      <td>left</td>\n",
       "      <td>1</td>\n",
       "      <td>0</td>\n",
       "      <td>True</td>\n",
       "    </tr>\n",
       "    <tr>\n",
       "      <th>3</th>\n",
       "      <td>1000303_21016_1_0.png</td>\n",
       "      <td>female</td>\n",
       "      <td>1000303</td>\n",
       "      <td>right</td>\n",
       "      <td>1</td>\n",
       "      <td>0</td>\n",
       "      <td>False</td>\n",
       "    </tr>\n",
       "    <tr>\n",
       "      <th>4</th>\n",
       "      <td>1000390_21015_1_0.png</td>\n",
       "      <td>male</td>\n",
       "      <td>1000390</td>\n",
       "      <td>left</td>\n",
       "      <td>1</td>\n",
       "      <td>0</td>\n",
       "      <td>True</td>\n",
       "    </tr>\n",
       "  </tbody>\n",
       "</table>\n",
       "</div>"
      ],
      "text/plain": [
       "                    file     sex  patient_id eye_side  visit  replica  cleaned\n",
       "0  1000180_21015_0_0.png  female     1000180     left      0        0     True\n",
       "1  1000180_21016_0_0.png  female     1000180    right      0        0     True\n",
       "2  1000303_21015_1_0.png  female     1000303     left      1        0     True\n",
       "3  1000303_21016_1_0.png  female     1000303    right      1        0    False\n",
       "4  1000390_21015_1_0.png    male     1000390     left      1        0     True"
      ]
     },
     "execution_count": 3,
     "metadata": {},
     "output_type": "execute_result"
    }
   ],
   "source": [
    "# Load libraries\n",
    "ukbb = pd.read_csv(\"./data/ukbb_metadata_qc.csv\")\n",
    "ukbb.head()"
   ]
  },
  {
   "cell_type": "code",
   "execution_count": 4,
   "metadata": {},
   "outputs": [
    {
     "data": {
      "text/html": [
       "<div>\n",
       "<style scoped>\n",
       "    .dataframe tbody tr th:only-of-type {\n",
       "        vertical-align: middle;\n",
       "    }\n",
       "\n",
       "    .dataframe tbody tr th {\n",
       "        vertical-align: top;\n",
       "    }\n",
       "\n",
       "    .dataframe thead th {\n",
       "        text-align: right;\n",
       "    }\n",
       "</style>\n",
       "<table border=\"1\" class=\"dataframe\">\n",
       "  <thead>\n",
       "    <tr style=\"text-align: right;\">\n",
       "      <th></th>\n",
       "      <th>file</th>\n",
       "      <th>sex</th>\n",
       "      <th>patient_id</th>\n",
       "      <th>eye_side</th>\n",
       "      <th>visit</th>\n",
       "      <th>replica</th>\n",
       "      <th>cleaned</th>\n",
       "    </tr>\n",
       "  </thead>\n",
       "  <tbody>\n",
       "    <tr>\n",
       "      <th>0</th>\n",
       "      <td>1000180_21015_0_0.png</td>\n",
       "      <td>female</td>\n",
       "      <td>1000180</td>\n",
       "      <td>left</td>\n",
       "      <td>0</td>\n",
       "      <td>0</td>\n",
       "      <td>True</td>\n",
       "    </tr>\n",
       "    <tr>\n",
       "      <th>1</th>\n",
       "      <td>1000180_21016_0_0.png</td>\n",
       "      <td>female</td>\n",
       "      <td>1000180</td>\n",
       "      <td>right</td>\n",
       "      <td>0</td>\n",
       "      <td>0</td>\n",
       "      <td>True</td>\n",
       "    </tr>\n",
       "    <tr>\n",
       "      <th>2</th>\n",
       "      <td>1000303_21015_1_0.png</td>\n",
       "      <td>female</td>\n",
       "      <td>1000303</td>\n",
       "      <td>left</td>\n",
       "      <td>1</td>\n",
       "      <td>0</td>\n",
       "      <td>True</td>\n",
       "    </tr>\n",
       "    <tr>\n",
       "      <th>4</th>\n",
       "      <td>1000390_21015_1_0.png</td>\n",
       "      <td>male</td>\n",
       "      <td>1000390</td>\n",
       "      <td>left</td>\n",
       "      <td>1</td>\n",
       "      <td>0</td>\n",
       "      <td>True</td>\n",
       "    </tr>\n",
       "    <tr>\n",
       "      <th>5</th>\n",
       "      <td>1000390_21016_1_0.png</td>\n",
       "      <td>male</td>\n",
       "      <td>1000390</td>\n",
       "      <td>right</td>\n",
       "      <td>1</td>\n",
       "      <td>0</td>\n",
       "      <td>True</td>\n",
       "    </tr>\n",
       "  </tbody>\n",
       "</table>\n",
       "</div>"
      ],
      "text/plain": [
       "                    file     sex  patient_id eye_side  visit  replica  cleaned\n",
       "0  1000180_21015_0_0.png  female     1000180     left      0        0     True\n",
       "1  1000180_21016_0_0.png  female     1000180    right      0        0     True\n",
       "2  1000303_21015_1_0.png  female     1000303     left      1        0     True\n",
       "4  1000390_21015_1_0.png    male     1000390     left      1        0     True\n",
       "5  1000390_21016_1_0.png    male     1000390    right      1        0     True"
      ]
     },
     "execution_count": 4,
     "metadata": {},
     "output_type": "execute_result"
    }
   ],
   "source": [
    "# Keep only images with reaasonable quality\n",
    "clean = ukbb[ukbb[\"cleaned\"]]\n",
    "clean.head()"
   ]
  },
  {
   "cell_type": "code",
   "execution_count": 5,
   "metadata": {},
   "outputs": [
    {
     "name": "stdout",
     "output_type": "stream",
     "text": [
      "154931\n",
      "female    84021\n",
      "male      70910\n",
      "Name: sex, dtype: int64\n",
      "female    0.542312\n",
      "male      0.457688\n",
      "Name: sex, dtype: float64\n"
     ]
    }
   ],
   "source": [
    "# Get female/male distribution\n",
    "print(sum(clean.sex.value_counts()))\n",
    "print(clean.sex.value_counts())\n",
    "print(clean.sex.value_counts()/clean.shape[0])"
   ]
  },
  {
   "cell_type": "code",
   "execution_count": 6,
   "metadata": {},
   "outputs": [
    {
     "name": "stdout",
     "output_type": "stream",
     "text": [
      "(84021, 7)\n",
      "(70910, 7)\n",
      "(60000, 7)\n",
      "(60000, 7)\n",
      "(120000, 7)\n",
      "0.7745383428752154\n"
     ]
    }
   ],
   "source": [
    "# Get 60,000 females and 60,000 males (120, 000) Fundus for training.\n",
    "# This will be roughly the 77.45% of the cleaned data\n",
    "\n",
    "females = clean[clean.sex == \"female\"]\n",
    "males   = clean[clean.sex == \"male\"]\n",
    "\n",
    "print(females.shape)\n",
    "print(males.shape)\n",
    "\n",
    "train_females, valtest_females = train_test_split(females, train_size=60000, random_state=42)\n",
    "train_males, valtest_males = train_test_split(males, train_size=60000, random_state=42)\n",
    "\n",
    "print(train_females.shape)\n",
    "print(train_males.shape)\n",
    "\n",
    "# Concatenate females and males\n",
    "train = pd.concat([train_females, train_males])\n",
    "train = train.sort_values(by=\"file\")\n",
    "\n",
    "print(train.shape)\n",
    "print(train.shape[0]/clean.shape[0])"
   ]
  },
  {
   "cell_type": "code",
   "execution_count": 7,
   "metadata": {},
   "outputs": [
    {
     "name": "stdout",
     "output_type": "stream",
     "text": [
      "(24021, 7)\n",
      "(10910, 7)\n"
     ]
    }
   ],
   "source": [
    "# The rest of the data will be splitted 50/50 for validation and testing.\n",
    "# This will account for 22.54% of the cleaned data.\n",
    "print(valtest_females.shape)\n",
    "print(valtest_males.shape)"
   ]
  },
  {
   "cell_type": "code",
   "execution_count": 8,
   "metadata": {},
   "outputs": [
    {
     "name": "stdout",
     "output_type": "stream",
     "text": [
      "13111\n",
      "0.0846247684453079\n"
     ]
    }
   ],
   "source": [
    "# We are going to ignore some female images to keep the female to male ratio 50/50\n",
    "print(valtest_females.shape[0]-valtest_females.sample(n=valtest_males.shape[0], random_state=42).shape[0])\n",
    "print((valtest_females.shape[0]-valtest_females.sample(n=valtest_males.shape[0], random_state=42).shape[0])/clean.shape[0])"
   ]
  },
  {
   "cell_type": "code",
   "execution_count": 9,
   "metadata": {},
   "outputs": [
    {
     "name": "stdout",
     "output_type": "stream",
     "text": [
      "(21820, 7)\n",
      "0.14083688867947666\n"
     ]
    }
   ],
   "source": [
    "# Select equal ammounts of females and males for the validation and test \n",
    "# This way the ratio will be 50/50 female to male\n",
    "valtest = pd.concat([valtest_females.sample(n=valtest_males.shape[0], random_state=42), valtest_males])\n",
    "valtest = valtest.sort_values(by=\"file\")\n",
    "print(valtest.shape)\n",
    "print(valtest.shape[0]/clean.shape[0])"
   ]
  },
  {
   "cell_type": "code",
   "execution_count": 10,
   "metadata": {},
   "outputs": [
    {
     "name": "stdout",
     "output_type": "stream",
     "text": [
      "female    10910\n",
      "male      10910\n",
      "Name: sex, dtype: int64\n",
      "female    0.5\n",
      "male      0.5\n",
      "Name: sex, dtype: float64\n"
     ]
    }
   ],
   "source": [
    "# Female/Male ratio on validation-test \n",
    "print(valtest.sex.value_counts())\n",
    "print(valtest.sex.value_counts()/valtest.shape[0])"
   ]
  },
  {
   "cell_type": "code",
   "execution_count": 11,
   "metadata": {},
   "outputs": [
    {
     "name": "stdout",
     "output_type": "stream",
     "text": [
      "(10910, 7)\n",
      "0.07041844433973833\n",
      "(10910, 7)\n",
      "0.07041844433973833\n"
     ]
    }
   ],
   "source": [
    "# Split validation-test into validation and test\n",
    "vald, test = train_test_split(valtest, train_size=.50, random_state=42)\n",
    "print(vald.shape)\n",
    "print(vald.shape[0]/clean.shape[0])\n",
    "print(test.shape)\n",
    "print(test.shape[0]/clean.shape[0])"
   ]
  },
  {
   "cell_type": "code",
   "execution_count": 12,
   "metadata": {},
   "outputs": [
    {
     "name": "stdout",
     "output_type": "stream",
     "text": [
      "female    5495\n",
      "male      5415\n",
      "Name: sex, dtype: int64\n",
      "female    0.503666\n",
      "male      0.496334\n",
      "Name: sex, dtype: float64\n",
      "male      5495\n",
      "female    5415\n",
      "Name: sex, dtype: int64\n",
      "male      0.503666\n",
      "female    0.496334\n",
      "Name: sex, dtype: float64\n"
     ]
    }
   ],
   "source": [
    "# The female/male ratio on the validation and test set \n",
    "print(vald.sex.value_counts())\n",
    "print(vald.sex.value_counts()/vald.shape[0])\n",
    "\n",
    "print(test.sex.value_counts())\n",
    "print(test.sex.value_counts()/test.shape[0])"
   ]
  },
  {
   "cell_type": "code",
   "execution_count": 13,
   "metadata": {},
   "outputs": [],
   "source": [
    "# Save train-validation-test subsets as csv \n",
    "train.to_csv(\"./data/ukbb_metadata_qc_train.csv\")\n",
    "vald.to_csv(\"./data/ukbb_metadata_qc_validation.csv\")\n",
    "test.to_csv(\"./data/ukbb_metadata_qc_test.csv\")"
   ]
  },
  {
   "cell_type": "code",
   "execution_count": null,
   "metadata": {},
   "outputs": [],
   "source": []
  }
 ],
 "metadata": {
  "kernelspec": {
   "display_name": "Python 3",
   "language": "python",
   "name": "python3"
  },
  "language_info": {
   "codemirror_mode": {
    "name": "ipython",
    "version": 3
   },
   "file_extension": ".py",
   "mimetype": "text/x-python",
   "name": "python",
   "nbconvert_exporter": "python",
   "pygments_lexer": "ipython3",
   "version": "3.7.9"
  }
 },
 "nbformat": 4,
 "nbformat_minor": 4
}
