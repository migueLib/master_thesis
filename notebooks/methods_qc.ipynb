{
 "cells": [
  {
   "cell_type": "code",
   "execution_count": 1,
   "metadata": {},
   "outputs": [
    {
     "ename": "NameError",
     "evalue": "name 'ukbb_thr_stats' is not defined",
     "output_type": "error",
     "traceback": [
      "\u001b[0;31m---------------------------------------------------------------------------\u001b[0m",
      "\u001b[0;31mNameError\u001b[0m                                 Traceback (most recent call last)",
      "\u001b[0;32m<ipython-input-1-712f61ea40cb>\u001b[0m in \u001b[0;36m<module>\u001b[0;34m\u001b[0m\n\u001b[1;32m      1\u001b[0m \u001b[0mlb\u001b[0m  \u001b[0;34m=\u001b[0m \u001b[0;36m50\u001b[0m\u001b[0;34m\u001b[0m\u001b[0;34m\u001b[0m\u001b[0m\n\u001b[0;32m----> 2\u001b[0;31m \u001b[0mprint\u001b[0m\u001b[0;34m(\u001b[0m\u001b[0mukbb_thr_stats\u001b[0m\u001b[0;34m[\u001b[0m\u001b[0mukbb_thr_stats\u001b[0m\u001b[0;34m.\u001b[0m\u001b[0mmea_b\u001b[0m \u001b[0;34m<\u001b[0m \u001b[0mlb\u001b[0m\u001b[0;34m]\u001b[0m\u001b[0;34m.\u001b[0m\u001b[0mshape\u001b[0m\u001b[0;34m)\u001b[0m\u001b[0;34m\u001b[0m\u001b[0;34m\u001b[0m\u001b[0m\n\u001b[0m\u001b[1;32m      3\u001b[0m \u001b[0;34m\u001b[0m\u001b[0m\n\u001b[1;32m      4\u001b[0m \u001b[0;32mfor\u001b[0m \u001b[0mi\u001b[0m \u001b[0;32min\u001b[0m \u001b[0mukbb_thr_stats\u001b[0m\u001b[0;34m[\u001b[0m\u001b[0mukbb_thr_stats\u001b[0m\u001b[0;34m.\u001b[0m\u001b[0mmea_b\u001b[0m \u001b[0;34m<\u001b[0m \u001b[0mlb\u001b[0m\u001b[0;34m]\u001b[0m\u001b[0;34m.\u001b[0m\u001b[0mfile\u001b[0m\u001b[0;34m.\u001b[0m\u001b[0msample\u001b[0m\u001b[0;34m(\u001b[0m\u001b[0mn\u001b[0m\u001b[0;34m=\u001b[0m\u001b[0;36m20\u001b[0m\u001b[0;34m)\u001b[0m\u001b[0;34m:\u001b[0m\u001b[0;34m\u001b[0m\u001b[0;34m\u001b[0m\u001b[0m\n\u001b[1;32m      5\u001b[0m     \u001b[0mx\u001b[0m \u001b[0;34m=\u001b[0m \u001b[0mFundus\u001b[0m\u001b[0;34m(\u001b[0m\u001b[0;34mf\"{data_path}/{i}\"\u001b[0m\u001b[0;34m)\u001b[0m\u001b[0;34m\u001b[0m\u001b[0;34m\u001b[0m\u001b[0m\n",
      "\u001b[0;31mNameError\u001b[0m: name 'ukbb_thr_stats' is not defined"
     ]
    }
   ],
   "source": [
    "lb  = 50\n",
    "print(ukbb_thr_stats[ukbb_thr_stats.mea_b < lb].shape)\n",
    "\n",
    "for i in ukbb_thr_stats[ukbb_thr_stats.mea_b < lb].file.sample(n=20):\n",
    "    x = Fundus(f\"{data_path}/{i}\")\n",
    "    x.show()"
   ]
  },
  {
   "cell_type": "code",
   "execution_count": null,
   "metadata": {},
   "outputs": [],
   "source": [
    "ub = 70\n",
    "print(ukbb_thr_stats[ukbb_thr_stats.mea_r > ub].shape)\n",
    "\n",
    "for i in ukbb_thr_stats[ukbb_thr_stats.mea_r > ub].file.sample(n=20):\n",
    "    x = Fundus(f\"{data_path}/{i}\")\n",
    "    x.show()"
   ]
  }
 ],
 "metadata": {
  "kernelspec": {
   "display_name": "Python 3",
   "language": "python",
   "name": "python3"
  },
  "language_info": {
   "codemirror_mode": {
    "name": "ipython",
    "version": 3
   },
   "file_extension": ".py",
   "mimetype": "text/x-python",
   "name": "python",
   "nbconvert_exporter": "python",
   "pygments_lexer": "ipython3",
   "version": "3.7.9"
  }
 },
 "nbformat": 4,
 "nbformat_minor": 4
}
