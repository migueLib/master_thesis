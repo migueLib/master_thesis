{
 "cells": [
  {
   "cell_type": "markdown",
   "metadata": {},
   "source": [
    "# Create links from the RAW files location to the /data directory"
   ]
  },
  {
   "cell_type": "code",
   "execution_count": 5,
   "metadata": {},
   "outputs": [],
   "source": [
    "import os\n",
    "import pickle\n",
    "import shutil\n",
    "from pathlib import Path"
   ]
  },
  {
   "cell_type": "code",
   "execution_count": 3,
   "metadata": {},
   "outputs": [
    {
     "name": "stdout",
     "output_type": "stream",
     "text": [
      "/home/ubuntu/master_thesis\n"
     ]
    }
   ],
   "source": [
    "#Load local libraries\n",
    "# ROOT contais the project directory \n",
    "os.chdir(os.path.dirname(os.getcwd()))\n",
    "print(os.getcwd())"
   ]
  },
  {
   "cell_type": "code",
   "execution_count": 14,
   "metadata": {},
   "outputs": [],
   "source": [
    "# Load list of image's IDs\n",
    "\n",
    "with open(\"data/pickles/train-females.pkl\", \"rb\") as f:\n",
    "    female_train =pickle.load(f)\n",
    "\n",
    "with open(\"data/pickles/validation-females.pkl\", \"rb\") as f:\n",
    "    female_validation =pickle.load(f)\n",
    "\n",
    "with open(\"data/pickles/test-females.pkl\", \"rb\") as f:\n",
    "    female_test =pickle.load(f)\n",
    "\n",
    "with open(\"data/pickles/train-males.pkl\", \"rb\") as f:\n",
    "    male_train =pickle.load(f)\n",
    "\n",
    "with open(\"data/pickles/validation-males.pkl\", \"rb\") as f:\n",
    "    male_validation =pickle.load(f)\n",
    "\n",
    "with open(\"data/pickles/test-males.pkl\", \"rb\") as f:\n",
    "    male_test =pickle.load(f)"
   ]
  },
  {
   "cell_type": "code",
   "execution_count": 7,
   "metadata": {},
   "outputs": [],
   "source": [
    "# Lets create links from \n",
    "source = os.path.abspath(\"/mnt/ukbb/raw/\")\n",
    "\n",
    "# to\n",
    "dest = os.path.abspath(\"data/raw/\")"
   ]
  },
  {
   "cell_type": "code",
   "execution_count": 10,
   "metadata": {},
   "outputs": [],
   "source": [
    "# Create all output paths\n",
    "path_female_train = os.path.abspath(dest+\"/train/female\")\n",
    "path_male_train = os.path.abspath(dest+\"/train/male\")\n",
    "path_female_validation = os.path.abspath(dest+\"/validation/female\")\n",
    "path_male_validation = os.path.abspath(dest+\"/validation/male\")\n",
    "path_female_test = os.path.abspath(dest+\"/test/female\")\n",
    "path_male_test = os.path.abspath(dest+\"/test/male\")"
   ]
  },
  {
   "cell_type": "code",
   "execution_count": 12,
   "metadata": {},
   "outputs": [],
   "source": [
    "# Create directories if they not exist\n",
    "Path(path_female_train).mkdir(parents=True, exist_ok=True)\n",
    "Path(path_male_train).mkdir(parents=True, exist_ok=True)\n",
    "Path(path_female_validation).mkdir(parents=True, exist_ok=True)\n",
    "Path(path_male_validation).mkdir(parents=True, exist_ok=True)\n",
    "Path(path_female_test).mkdir(parents=True, exist_ok=True)\n",
    "Path(path_male_test).mkdir(parents=True, exist_ok=True)"
   ]
  },
  {
   "cell_type": "code",
   "execution_count": 16,
   "metadata": {},
   "outputs": [],
   "source": [
    "# Copy  from source to dest\n",
    "\n",
    "for i in female_train:\n",
    "    src = os.path.join(source, i)\n",
    "    dst = os.path.join(path_female_train, i)\n",
    "    os.symlink(src,dst)\n",
    "    \n",
    "for i in female_validation:\n",
    "    src = os.path.join(source, i)\n",
    "    dst = os.path.join(path_male_train, i)\n",
    "    os.symlink(src,dst)\n",
    "    \n",
    "for i in female_test:\n",
    "    src = os.path.join(source, i)\n",
    "    dst = os.path.join(path_female_validation, i)\n",
    "    os.symlink(src,dst)\n",
    "    \n",
    "for i in male_train:\n",
    "    src = os.path.join(source, i)\n",
    "    dst = os.path.join(path_male_validation, i)\n",
    "    os.symlink(src,dst)\n",
    "    \n",
    "for i in male_validation:\n",
    "    src = os.path.join(source, i)\n",
    "    dst = os.path.join(path_female_test, i)\n",
    "    os.symlink(src,dst)\n",
    "    \n",
    "for i in male_test:\n",
    "    src = os.path.join(source, i)\n",
    "    dst = os.path.join(path_male_test, i)\n",
    "    os.symlink(src,dst)\n",
    "    "
   ]
  },
  {
   "cell_type": "code",
   "execution_count": null,
   "metadata": {},
   "outputs": [],
   "source": []
  }
 ],
 "metadata": {
  "kernelspec": {
   "display_name": "Python 3",
   "language": "python",
   "name": "python3"
  },
  "language_info": {
   "codemirror_mode": {
    "name": "ipython",
    "version": 3
   },
   "file_extension": ".py",
   "mimetype": "text/x-python",
   "name": "python",
   "nbconvert_exporter": "python",
   "pygments_lexer": "ipython3",
   "version": "3.7.9"
  }
 },
 "nbformat": 4,
 "nbformat_minor": 4
}
