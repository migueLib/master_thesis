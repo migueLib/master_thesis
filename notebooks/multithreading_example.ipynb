{
 "cells": [
  {
   "cell_type": "code",
   "execution_count": 1,
   "metadata": {},
   "outputs": [],
   "source": [
    "# Import\n",
    "import os\n",
    "import cv2\n",
    "import numpy as np\n",
    "from PIL import Image\n",
    "import matplotlib.pyplot as plt\n",
    "from tqdm import tqdm\n",
    "import seaborn as sns\n",
    "import concurrent.futures\n",
    "import pandas as pd"
   ]
  },
  {
   "cell_type": "code",
   "execution_count": 2,
   "metadata": {},
   "outputs": [
    {
     "name": "stdout",
     "output_type": "stream",
     "text": [
      "/ceph01/homedirs/ibarra/master_thesis\n"
     ]
    }
   ],
   "source": [
    "# Load local libraries\n",
    "# ROOT contais the project directory \n",
    "os.chdir(os.path.dirname(os.getcwd()))\n",
    "print(os.getcwd())"
   ]
  },
  {
   "cell_type": "code",
   "execution_count": 3,
   "metadata": {},
   "outputs": [],
   "source": [
    "# Local imports\n",
    "from src.Fundus import Fundus"
   ]
  },
  {
   "cell_type": "code",
   "execution_count": null,
   "metadata": {},
   "outputs": [
    {
     "name": "stdout",
     "output_type": "stream",
     "text": [
      "/home/ibarra/EyeCandy/ukbb/data/5332434_21016_0_0.png\n",
      "/home/ibarra/EyeCandy/ukbb/data/4976747_21016_0_0.png/home/ibarra/EyeCandy/ukbb/data/4767016_21015_0_0.png\n",
      "/home/ibarra/EyeCandy/ukbb/data/1904746_21016_1_0.png\n",
      "\n",
      "/home/ibarra/EyeCandy/ukbb/data/1002431_21015_0_0.png/home/ibarra/EyeCandy/ukbb/data/3363663_21015_0_0.png/home/ibarra/EyeCandy/ukbb/data/4515399_21015_0_0.png/home/ibarra/EyeCandy/ukbb/data/1356576_21015_0_0.png\n",
      "\n",
      "/home/ibarra/EyeCandy/ukbb/data/2429003_21016_0_0.png\n",
      "/home/ibarra/EyeCandy/ukbb/data/5039978_21015_1_0.png\n",
      "\n",
      "\n",
      "/home/ibarra/EyeCandy/ukbb/data/1406752_21015_1_0.png\n"
     ]
    }
   ],
   "source": [
    "%%time\n",
    "datadir = \"/home/ibarra/EyeCandy/ukbb/data/\"\n",
    "\n",
    "def pal4im(image):\n",
    "    a = Fundus(os.path.join(datadir, image))\n",
    "    return a.get_radius()\n",
    "\n",
    "with concurrent.futures.ProcessPoolExecutor() as executor:\n",
    "    results = executor.map(pal4im, os.listdir(datadir))\n",
    "\n",
    "results = [r for r in results]"
   ]
  }
 ],
 "metadata": {
  "kernelspec": {
   "display_name": "Python 3",
   "language": "python",
   "name": "python3"
  },
  "language_info": {
   "codemirror_mode": {
    "name": "ipython",
    "version": 3
   },
   "file_extension": ".py",
   "mimetype": "text/x-python",
   "name": "python",
   "nbconvert_exporter": "python",
   "pygments_lexer": "ipython3",
   "version": "3.7.9"
  }
 },
 "nbformat": 4,
 "nbformat_minor": 4
}
