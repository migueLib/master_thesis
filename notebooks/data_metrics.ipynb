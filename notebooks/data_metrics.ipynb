{
 "cells": [
  {
   "cell_type": "code",
   "execution_count": 1,
   "metadata": {},
   "outputs": [],
   "source": [
    "# Imports\n",
    "import os\n",
    "import pickle\n",
    "import pandas as pd\n",
    "from tqdm import tqdm"
   ]
  },
  {
   "cell_type": "code",
   "execution_count": 2,
   "metadata": {},
   "outputs": [
    {
     "name": "stdout",
     "output_type": "stream",
     "text": [
      "/home/ubuntu/master_thesis\n"
     ]
    }
   ],
   "source": [
    "# Set Working directory\n",
    "os.chdir(os.path.dirname(os.getcwd()))\n",
    "print(os.getcwd())"
   ]
  },
  {
   "cell_type": "code",
   "execution_count": 3,
   "metadata": {},
   "outputs": [],
   "source": [
    "# Load local libraries\n",
    "from src.get_info_from_name import get_info_from_name"
   ]
  },
  {
   "cell_type": "markdown",
   "metadata": {},
   "source": [
    "# DATA by Image"
   ]
  },
  {
   "cell_type": "code",
   "execution_count": 4,
   "metadata": {},
   "outputs": [
    {
     "name": "stdout",
     "output_type": "stream",
     "text": [
      "Total number of images\n",
      "174986\n"
     ]
    }
   ],
   "source": [
    "print(\"Total number of images\")\n",
    "all_im = os.listdir(\"/mnt/ukbb/raw\")\n",
    "print(len(all_im))"
   ]
  },
  {
   "cell_type": "code",
   "execution_count": 5,
   "metadata": {},
   "outputs": [
    {
     "name": "stdout",
     "output_type": "stream",
     "text": [
      "Total number of images for females\n",
      "93753\n",
      "0.5357742905146697\n"
     ]
    }
   ],
   "source": [
    "with open(\"/home/ubuntu/master_thesis/data/pickles/all-females.pkl\", \"rb\") as f:\n",
    "    females = pickle.load(f)\n",
    "print(\"Total number of images for females\")\n",
    "print(len(females))\n",
    "print(len(females)/len(all_im))"
   ]
  },
  {
   "cell_type": "code",
   "execution_count": 6,
   "metadata": {},
   "outputs": [
    {
     "name": "stdout",
     "output_type": "stream",
     "text": [
      "Total number of images for males\n",
      "81233\n",
      "0.46422570948533026\n"
     ]
    }
   ],
   "source": [
    "with open(\"/home/ubuntu/master_thesis/data/pickles/all-males.pkl\", \"rb\") as f:\n",
    "    males = pickle.load(f)\n",
    "print(\"Total number of images for males\")\n",
    "print(len(males))\n",
    "print(len(males)/len(all_im))"
   ]
  },
  {
   "cell_type": "code",
   "execution_count": 7,
   "metadata": {},
   "outputs": [
    {
     "data": {
      "text/plain": [
       "True"
      ]
     },
     "execution_count": 7,
     "metadata": {},
     "output_type": "execute_result"
    }
   ],
   "source": [
    "len(all_im) == len(females)+len(males)"
   ]
  },
  {
   "cell_type": "markdown",
   "metadata": {},
   "source": [
    "# DATA by Patient"
   ]
  },
  {
   "cell_type": "code",
   "execution_count": 8,
   "metadata": {},
   "outputs": [
    {
     "data": {
      "text/html": [
       "<div>\n",
       "<style scoped>\n",
       "    .dataframe tbody tr th:only-of-type {\n",
       "        vertical-align: middle;\n",
       "    }\n",
       "\n",
       "    .dataframe tbody tr th {\n",
       "        vertical-align: top;\n",
       "    }\n",
       "\n",
       "    .dataframe thead th {\n",
       "        text-align: right;\n",
       "    }\n",
       "</style>\n",
       "<table border=\"1\" class=\"dataframe\">\n",
       "  <thead>\n",
       "    <tr style=\"text-align: right;\">\n",
       "      <th></th>\n",
       "      <th>file</th>\n",
       "      <th>sex</th>\n",
       "    </tr>\n",
       "  </thead>\n",
       "  <tbody>\n",
       "    <tr>\n",
       "      <th>0</th>\n",
       "      <td>2159201_21015_0_0.png</td>\n",
       "      <td>male</td>\n",
       "    </tr>\n",
       "    <tr>\n",
       "      <th>1</th>\n",
       "      <td>1076073_21016_0_0.png</td>\n",
       "      <td>male</td>\n",
       "    </tr>\n",
       "    <tr>\n",
       "      <th>2</th>\n",
       "      <td>5110590_21015_0_0.png</td>\n",
       "      <td>male</td>\n",
       "    </tr>\n",
       "    <tr>\n",
       "      <th>3</th>\n",
       "      <td>1662118_21015_0_0.png</td>\n",
       "      <td>male</td>\n",
       "    </tr>\n",
       "    <tr>\n",
       "      <th>4</th>\n",
       "      <td>5300490_21016_0_0.png</td>\n",
       "      <td>male</td>\n",
       "    </tr>\n",
       "  </tbody>\n",
       "</table>\n",
       "</div>"
      ],
      "text/plain": [
       "                    file   sex\n",
       "0  2159201_21015_0_0.png  male\n",
       "1  1076073_21016_0_0.png  male\n",
       "2  5110590_21015_0_0.png  male\n",
       "3  1662118_21015_0_0.png  male\n",
       "4  5300490_21016_0_0.png  male"
      ]
     },
     "execution_count": 8,
     "metadata": {},
     "output_type": "execute_result"
    }
   ],
   "source": [
    "# Read UK Biobank frame with sex information\n",
    "ukbb_frame = pd.read_csv(\"./data/fundus_sex.csv\")\n",
    "ukbb_frame.head()"
   ]
  },
  {
   "cell_type": "code",
   "execution_count": 9,
   "metadata": {},
   "outputs": [
    {
     "data": {
      "text/html": [
       "<div>\n",
       "<style scoped>\n",
       "    .dataframe tbody tr th:only-of-type {\n",
       "        vertical-align: middle;\n",
       "    }\n",
       "\n",
       "    .dataframe tbody tr th {\n",
       "        vertical-align: top;\n",
       "    }\n",
       "\n",
       "    .dataframe thead th {\n",
       "        text-align: right;\n",
       "    }\n",
       "</style>\n",
       "<table border=\"1\" class=\"dataframe\">\n",
       "  <thead>\n",
       "    <tr style=\"text-align: right;\">\n",
       "      <th></th>\n",
       "      <th>patient_id</th>\n",
       "      <th>eye_side</th>\n",
       "      <th>visit</th>\n",
       "      <th>replica</th>\n",
       "    </tr>\n",
       "  </thead>\n",
       "  <tbody>\n",
       "    <tr>\n",
       "      <th>0</th>\n",
       "      <td>2159201</td>\n",
       "      <td>left</td>\n",
       "      <td>0</td>\n",
       "      <td>0</td>\n",
       "    </tr>\n",
       "    <tr>\n",
       "      <th>1</th>\n",
       "      <td>1076073</td>\n",
       "      <td>right</td>\n",
       "      <td>0</td>\n",
       "      <td>0</td>\n",
       "    </tr>\n",
       "    <tr>\n",
       "      <th>2</th>\n",
       "      <td>5110590</td>\n",
       "      <td>left</td>\n",
       "      <td>0</td>\n",
       "      <td>0</td>\n",
       "    </tr>\n",
       "    <tr>\n",
       "      <th>3</th>\n",
       "      <td>1662118</td>\n",
       "      <td>left</td>\n",
       "      <td>0</td>\n",
       "      <td>0</td>\n",
       "    </tr>\n",
       "    <tr>\n",
       "      <th>4</th>\n",
       "      <td>5300490</td>\n",
       "      <td>right</td>\n",
       "      <td>0</td>\n",
       "      <td>0</td>\n",
       "    </tr>\n",
       "  </tbody>\n",
       "</table>\n",
       "</div>"
      ],
      "text/plain": [
       "  patient_id eye_side visit replica\n",
       "0    2159201     left     0       0\n",
       "1    1076073    right     0       0\n",
       "2    5110590     left     0       0\n",
       "3    1662118     left     0       0\n",
       "4    5300490    right     0       0"
      ]
     },
     "execution_count": 9,
     "metadata": {},
     "output_type": "execute_result"
    }
   ],
   "source": [
    "ukbb_info = ukbb_frame[\"file\"].apply(lambda x: get_info_from_name(x))\n",
    "ukbb_info.head()"
   ]
  },
  {
   "cell_type": "code",
   "execution_count": 10,
   "metadata": {},
   "outputs": [
    {
     "data": {
      "text/html": [
       "<div>\n",
       "<style scoped>\n",
       "    .dataframe tbody tr th:only-of-type {\n",
       "        vertical-align: middle;\n",
       "    }\n",
       "\n",
       "    .dataframe tbody tr th {\n",
       "        vertical-align: top;\n",
       "    }\n",
       "\n",
       "    .dataframe thead th {\n",
       "        text-align: right;\n",
       "    }\n",
       "</style>\n",
       "<table border=\"1\" class=\"dataframe\">\n",
       "  <thead>\n",
       "    <tr style=\"text-align: right;\">\n",
       "      <th></th>\n",
       "      <th>file</th>\n",
       "      <th>sex</th>\n",
       "      <th>patient_id</th>\n",
       "      <th>eye_side</th>\n",
       "      <th>visit</th>\n",
       "      <th>replica</th>\n",
       "    </tr>\n",
       "  </thead>\n",
       "  <tbody>\n",
       "    <tr>\n",
       "      <th>0</th>\n",
       "      <td>2159201_21015_0_0.png</td>\n",
       "      <td>male</td>\n",
       "      <td>2159201</td>\n",
       "      <td>left</td>\n",
       "      <td>0</td>\n",
       "      <td>0</td>\n",
       "    </tr>\n",
       "    <tr>\n",
       "      <th>1</th>\n",
       "      <td>1076073_21016_0_0.png</td>\n",
       "      <td>male</td>\n",
       "      <td>1076073</td>\n",
       "      <td>right</td>\n",
       "      <td>0</td>\n",
       "      <td>0</td>\n",
       "    </tr>\n",
       "    <tr>\n",
       "      <th>2</th>\n",
       "      <td>5110590_21015_0_0.png</td>\n",
       "      <td>male</td>\n",
       "      <td>5110590</td>\n",
       "      <td>left</td>\n",
       "      <td>0</td>\n",
       "      <td>0</td>\n",
       "    </tr>\n",
       "    <tr>\n",
       "      <th>3</th>\n",
       "      <td>1662118_21015_0_0.png</td>\n",
       "      <td>male</td>\n",
       "      <td>1662118</td>\n",
       "      <td>left</td>\n",
       "      <td>0</td>\n",
       "      <td>0</td>\n",
       "    </tr>\n",
       "    <tr>\n",
       "      <th>4</th>\n",
       "      <td>5300490_21016_0_0.png</td>\n",
       "      <td>male</td>\n",
       "      <td>5300490</td>\n",
       "      <td>right</td>\n",
       "      <td>0</td>\n",
       "      <td>0</td>\n",
       "    </tr>\n",
       "  </tbody>\n",
       "</table>\n",
       "</div>"
      ],
      "text/plain": [
       "                    file   sex patient_id eye_side visit replica\n",
       "0  2159201_21015_0_0.png  male    2159201     left     0       0\n",
       "1  1076073_21016_0_0.png  male    1076073    right     0       0\n",
       "2  5110590_21015_0_0.png  male    5110590     left     0       0\n",
       "3  1662118_21015_0_0.png  male    1662118     left     0       0\n",
       "4  5300490_21016_0_0.png  male    5300490    right     0       0"
      ]
     },
     "execution_count": 10,
     "metadata": {},
     "output_type": "execute_result"
    }
   ],
   "source": [
    "ukbb_all  = pd.concat([ukbb_frame, ukbb_info], axis=1)\n",
    "ukbb_all.head()"
   ]
  },
  {
   "cell_type": "code",
   "execution_count": 11,
   "metadata": {},
   "outputs": [],
   "source": [
    "ukbb_all_sorted = ukbb_all.sort_values(by=[\"file\"])\n",
    "ukbb_all_sorted.to_csv(\"./data/ukbb_metadata.csv\", index=False)"
   ]
  },
  {
   "cell_type": "code",
   "execution_count": 20,
   "metadata": {},
   "outputs": [
    {
     "name": "stdout",
     "output_type": "stream",
     "text": [
      "right    88156\n",
      "left     86830\n",
      "Name: eye_side, dtype: int64\n",
      "right    0.503789\n",
      "left     0.496211\n",
      "Name: eye_side, dtype: float64\n"
     ]
    }
   ],
   "source": [
    "# Let's check how the data is splitted between left and righ eye\n",
    "print(ukbb_all_sorted.eye_side.value_counts())\n",
    "print(ukbb_all_sorted.eye_side.value_counts()/len(all_im))"
   ]
  },
  {
   "cell_type": "code",
   "execution_count": 24,
   "metadata": {},
   "outputs": [
    {
     "name": "stdout",
     "output_type": "stream",
     "text": [
      "female    93753\n",
      "male      81233\n",
      "Name: sex, dtype: int64\n",
      "female    0.535774\n",
      "male      0.464226\n",
      "Name: sex, dtype: float64\n"
     ]
    }
   ],
   "source": [
    "# Check how the data is splitted between females and males\n",
    "print(ukbb_all_sorted.sex.value_counts())\n",
    "print(ukbb_all_sorted.sex.value_counts()/len(all_im))"
   ]
  },
  {
   "cell_type": "code",
   "execution_count": 38,
   "metadata": {},
   "outputs": [
    {
     "data": {
      "text/plain": [
       "174986"
      ]
     },
     "execution_count": 38,
     "metadata": {},
     "output_type": "execute_result"
    }
   ],
   "source": [
    "#Get total number of images\n",
    "ukbb_all_sorted.file.size"
   ]
  },
  {
   "cell_type": "code",
   "execution_count": 39,
   "metadata": {},
   "outputs": [
    {
     "data": {
      "text/plain": [
       "85623"
      ]
     },
     "execution_count": 39,
     "metadata": {},
     "output_type": "execute_result"
    }
   ],
   "source": [
    "# Get number of patients\n",
    "ukbb_all_sorted.patient_id.unique().size"
   ]
  },
  {
   "cell_type": "code",
   "execution_count": 48,
   "metadata": {},
   "outputs": [
    {
     "name": "stdout",
     "output_type": "stream",
     "text": [
      "45948\n",
      "0.5366315125608774\n"
     ]
    }
   ],
   "source": [
    "# Get number of female patients\n",
    "print(ukbb_all[ukbb_all.sex==\"female\"].patient_id.unique().size)\n",
    "print(ukbb_all[ukbb_all.sex==\"female\"].patient_id.unique().size/ukbb_all_sorted.patient_id.unique().size)"
   ]
  },
  {
   "cell_type": "code",
   "execution_count": 49,
   "metadata": {},
   "outputs": [
    {
     "name": "stdout",
     "output_type": "stream",
     "text": [
      "39675\n",
      "0.4633684874391227\n"
     ]
    }
   ],
   "source": [
    "# Get number of male patients\n",
    "print(ukbb_all[ukbb_all.sex==\"male\"].patient_id.unique().size)\n",
    "print(ukbb_all[ukbb_all.sex==\"male\"].patient_id.unique().size/ukbb_all_sorted.patient_id.unique().size)"
   ]
  }
 ],
 "metadata": {
  "kernelspec": {
   "display_name": "Python 3",
   "language": "python",
   "name": "python3"
  },
  "language_info": {
   "codemirror_mode": {
    "name": "ipython",
    "version": 3
   },
   "file_extension": ".py",
   "mimetype": "text/x-python",
   "name": "python",
   "nbconvert_exporter": "python",
   "pygments_lexer": "ipython3",
   "version": "3.7.9"
  }
 },
 "nbformat": 4,
 "nbformat_minor": 4
}
