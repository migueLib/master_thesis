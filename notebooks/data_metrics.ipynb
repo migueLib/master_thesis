{
 "cells": [
  {
   "cell_type": "code",
   "execution_count": 47,
   "metadata": {},
   "outputs": [],
   "source": [
    "import os\n",
    "import pickle\n",
    "import pandas as pd\n",
    "from tqdm import tqdm"
   ]
  },
  {
   "cell_type": "code",
   "execution_count": 35,
   "metadata": {},
   "outputs": [
    {
     "name": "stdout",
     "output_type": "stream",
     "text": [
      "/home/ubuntu/master_thesis\n"
     ]
    }
   ],
   "source": [
    "#Load local libraries\n",
    "# ROOT contais the project directory \n",
    "os.chdir(os.path.dirname(os.getcwd()))\n",
    "print(os.getcwd())"
   ]
  },
  {
   "cell_type": "code",
   "execution_count": 36,
   "metadata": {},
   "outputs": [],
   "source": [
    "from src.get_info_from_name import get_info_from_name"
   ]
  },
  {
   "cell_type": "markdown",
   "metadata": {},
   "source": [
    "# DATA by sex"
   ]
  },
  {
   "cell_type": "code",
   "execution_count": 38,
   "metadata": {},
   "outputs": [
    {
     "name": "stdout",
     "output_type": "stream",
     "text": [
      "Total number of images\n",
      "174986\n"
     ]
    }
   ],
   "source": [
    "print(\"Total number of images\")\n",
    "all_im = os.listdir(\"/mnt/ukbb/raw\")\n",
    "print(len(all_im))"
   ]
  },
  {
   "cell_type": "code",
   "execution_count": 70,
   "metadata": {},
   "outputs": [
    {
     "name": "stdout",
     "output_type": "stream",
     "text": [
      "Total number of images for females\n",
      "93753\n",
      "0.5357742905146697\n"
     ]
    }
   ],
   "source": [
    "with open(\"/home/ubuntu/master_thesis/data/pickles/all-females.pkl\", \"rb\") as f:\n",
    "    females = pickle.load(f)\n",
    "print(\"Total number of images for females\")\n",
    "print(len(females))\n",
    "print(len(females)/len(all_im))"
   ]
  },
  {
   "cell_type": "code",
   "execution_count": 71,
   "metadata": {},
   "outputs": [
    {
     "name": "stdout",
     "output_type": "stream",
     "text": [
      "Total number of images for males\n",
      "81233\n",
      "0.46422570948533026\n"
     ]
    }
   ],
   "source": [
    "with open(\"/home/ubuntu/master_thesis/data/pickles/all-males.pkl\", \"rb\") as f:\n",
    "    males = pickle.load(f)\n",
    "print(\"Total number of images for males\")\n",
    "print(len(males))\n",
    "print(len(males)/len(all_im))"
   ]
  },
  {
   "cell_type": "code",
   "execution_count": 31,
   "metadata": {},
   "outputs": [
    {
     "data": {
      "text/plain": [
       "True"
      ]
     },
     "execution_count": 31,
     "metadata": {},
     "output_type": "execute_result"
    }
   ],
   "source": [
    "len(os.listdir(\"/mnt/ukbb/raw\")) == len(females)+len(males)"
   ]
  },
  {
   "cell_type": "markdown",
   "metadata": {},
   "source": [
    "# UKBB metrics"
   ]
  },
  {
   "cell_type": "code",
   "execution_count": 52,
   "metadata": {},
   "outputs": [
    {
     "name": "stderr",
     "output_type": "stream",
     "text": [
      "100%|██████████| 174986/174986 [00:55<00:00, 3156.06it/s]\n"
     ]
    },
    {
     "data": {
      "text/html": [
       "<div>\n",
       "<style scoped>\n",
       "    .dataframe tbody tr th:only-of-type {\n",
       "        vertical-align: middle;\n",
       "    }\n",
       "\n",
       "    .dataframe tbody tr th {\n",
       "        vertical-align: top;\n",
       "    }\n",
       "\n",
       "    .dataframe thead th {\n",
       "        text-align: right;\n",
       "    }\n",
       "</style>\n",
       "<table border=\"1\" class=\"dataframe\">\n",
       "  <thead>\n",
       "    <tr style=\"text-align: right;\">\n",
       "      <th></th>\n",
       "      <th>patient</th>\n",
       "      <th>side</th>\n",
       "      <th>samples</th>\n",
       "      <th>replicates</th>\n",
       "    </tr>\n",
       "  </thead>\n",
       "  <tbody>\n",
       "    <tr>\n",
       "      <th>0</th>\n",
       "      <td>5597306</td>\n",
       "      <td>left</td>\n",
       "      <td>0</td>\n",
       "      <td>0</td>\n",
       "    </tr>\n",
       "    <tr>\n",
       "      <th>1</th>\n",
       "      <td>2159201</td>\n",
       "      <td>left</td>\n",
       "      <td>0</td>\n",
       "      <td>0</td>\n",
       "    </tr>\n",
       "    <tr>\n",
       "      <th>2</th>\n",
       "      <td>1076073</td>\n",
       "      <td>right</td>\n",
       "      <td>0</td>\n",
       "      <td>0</td>\n",
       "    </tr>\n",
       "    <tr>\n",
       "      <th>3</th>\n",
       "      <td>5110590</td>\n",
       "      <td>left</td>\n",
       "      <td>0</td>\n",
       "      <td>0</td>\n",
       "    </tr>\n",
       "    <tr>\n",
       "      <th>4</th>\n",
       "      <td>5534155</td>\n",
       "      <td>right</td>\n",
       "      <td>1</td>\n",
       "      <td>0</td>\n",
       "    </tr>\n",
       "    <tr>\n",
       "      <th>...</th>\n",
       "      <td>...</td>\n",
       "      <td>...</td>\n",
       "      <td>...</td>\n",
       "      <td>...</td>\n",
       "    </tr>\n",
       "    <tr>\n",
       "      <th>174981</th>\n",
       "      <td>2090263</td>\n",
       "      <td>right</td>\n",
       "      <td>0</td>\n",
       "      <td>0</td>\n",
       "    </tr>\n",
       "    <tr>\n",
       "      <th>174982</th>\n",
       "      <td>1125139</td>\n",
       "      <td>left</td>\n",
       "      <td>0</td>\n",
       "      <td>0</td>\n",
       "    </tr>\n",
       "    <tr>\n",
       "      <th>174983</th>\n",
       "      <td>1131176</td>\n",
       "      <td>right</td>\n",
       "      <td>0</td>\n",
       "      <td>0</td>\n",
       "    </tr>\n",
       "    <tr>\n",
       "      <th>174984</th>\n",
       "      <td>5205402</td>\n",
       "      <td>left</td>\n",
       "      <td>1</td>\n",
       "      <td>0</td>\n",
       "    </tr>\n",
       "    <tr>\n",
       "      <th>174985</th>\n",
       "      <td>4751666</td>\n",
       "      <td>right</td>\n",
       "      <td>1</td>\n",
       "      <td>0</td>\n",
       "    </tr>\n",
       "  </tbody>\n",
       "</table>\n",
       "<p>174986 rows × 4 columns</p>\n",
       "</div>"
      ],
      "text/plain": [
       "        patient   side samples replicates\n",
       "0       5597306   left       0          0\n",
       "1       2159201   left       0          0\n",
       "2       1076073  right       0          0\n",
       "3       5110590   left       0          0\n",
       "4       5534155  right       1          0\n",
       "...         ...    ...     ...        ...\n",
       "174981  2090263  right       0          0\n",
       "174982  1125139   left       0          0\n",
       "174983  1131176  right       0          0\n",
       "174984  5205402   left       1          0\n",
       "174985  4751666  right       1          0\n",
       "\n",
       "[174986 rows x 4 columns]"
      ]
     },
     "execution_count": 52,
     "metadata": {},
     "output_type": "execute_result"
    }
   ],
   "source": [
    "all_df = pd.concat([get_info_from_name(i) for i in tqdm(all_im)], axis=1).T\n",
    "all_df"
   ]
  },
  {
   "cell_type": "code",
   "execution_count": 66,
   "metadata": {},
   "outputs": [
    {
     "name": "stdout",
     "output_type": "stream",
     "text": [
      "Left  eye: 86830\n",
      "Right eye: 88156\n"
     ]
    }
   ],
   "source": [
    "print(f\"Left  eye: {len(all_df[all_df.side ==  'left'])}\")\n",
    "print(f\"Right eye: {len(all_df[all_df.side ==  'right'])}\")"
   ]
  },
  {
   "cell_type": "code",
   "execution_count": 69,
   "metadata": {},
   "outputs": [
    {
     "name": "stdout",
     "output_type": "stream",
     "text": [
      "0.4962111254614655\n",
      "0.5037888745385345\n"
     ]
    }
   ],
   "source": [
    "print(len(all_df[all_df.side ==  'left'])/len(all_im))\n",
    "print(len(all_df[all_df.side ==  'right'])/len(all_im))"
   ]
  }
 ],
 "metadata": {
  "kernelspec": {
   "display_name": "Python 3",
   "language": "python",
   "name": "python3"
  },
  "language_info": {
   "codemirror_mode": {
    "name": "ipython",
    "version": 3
   },
   "file_extension": ".py",
   "mimetype": "text/x-python",
   "name": "python",
   "nbconvert_exporter": "python",
   "pygments_lexer": "ipython3",
   "version": "3.7.9"
  }
 },
 "nbformat": 4,
 "nbformat_minor": 4
}
