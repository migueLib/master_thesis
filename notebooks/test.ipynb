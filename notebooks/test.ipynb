{
 "cells": [
  {
   "cell_type": "code",
   "execution_count": 1,
   "id": "supported-accessory",
   "metadata": {},
   "outputs": [],
   "source": [
    "import os\n",
    "from os.path import dirname, abspath, join\n",
    "\n",
    "import sys\n",
    "import seaborn as sns\n",
    "from tqdm import tqdm\n",
    "import numpy as np\n",
    "import matplotlib.pyplot as plt\n",
    "import torch\n",
    "import torch.nn as nn\n",
    "from torch.utils.data import DataLoader\n",
    "from torchvision import datasets, models, transforms\n",
    "\n",
    "\n",
    "from sklearn.metrics import accuracy_score\n",
    "from sklearn.metrics import roc_auc_score\n",
    "from sklearn.metrics import roc_curve, auc"
   ]
  },
  {
   "cell_type": "code",
   "execution_count": 2,
   "id": "distinct-billion",
   "metadata": {},
   "outputs": [
    {
     "data": {
      "text/plain": [
       "'/home/ubuntu/master_thesis'"
      ]
     },
     "execution_count": 2,
     "metadata": {},
     "output_type": "execute_result"
    }
   ],
   "source": [
    "# Load local libraries\n",
    "# ROOT contais the project directory \n",
    "os.chdir(dirname(os.getcwd()))\n",
    "os.getcwd()"
   ]
  },
  {
   "cell_type": "code",
   "execution_count": 3,
   "id": "baking-senate",
   "metadata": {},
   "outputs": [],
   "source": [
    "# Import local libraries\n",
    "from src.logger import set_logger as sl\n",
    "\n",
    "# Load transformations\n",
    "from src.dataset import FundusDataset\n",
    "from src.RAMdatset import FundusDatasetRAM\n",
    "from src.plot_images import plot_images\n",
    "from src.predict import predict"
   ]
  },
  {
   "cell_type": "code",
   "execution_count": 4,
   "id": "right-balloon",
   "metadata": {},
   "outputs": [],
   "source": [
    "# Set-up logger\n",
    "try:\n",
    "    if logger is None:\n",
    "        logger = sl(\"info\")\n",
    "except:\n",
    "    logger = sl(\"info\")"
   ]
  },
  {
   "cell_type": "code",
   "execution_count": 5,
   "id": "ruled-fields",
   "metadata": {},
   "outputs": [],
   "source": [
    "# Put data\n",
    "batch_size    = 256\n",
    "num_workers   = os.cpu_count()\n",
    "\n",
    "im_size       = (300, 300)\n",
    "\n",
    "data          = abspath('/mnt/data/ukbb_300x300_normalized/')\n",
    "target_test   = abspath('./data/ukbb_metadata_qc_test.csv')\n",
    "model_pth     = abspath('./output/models/ukbb-sex-nor-300x300_iv3-bs256-lr001.pth_best.pth')\n",
    "\n",
    "device        = torch.device(\"cuda:0\" if torch.cuda.is_available() else \"cpu\")"
   ]
  },
  {
   "cell_type": "code",
   "execution_count": 6,
   "id": "arctic-science",
   "metadata": {},
   "outputs": [
    {
     "name": "stdout",
     "output_type": "stream",
     "text": [
      "2021-03-29 09:44:01,797 - INFO - System Python version  = 3.7.10 (default, Feb 26 2021, 18:47:35) \n",
      "[GCC 7.3.0]\n",
      "2021-03-29 09:44:01,798 - INFO - System Pytorch version = 1.8.0\n",
      "2021-03-29 09:44:01,799 - INFO - System usable CPUs     = 96\n",
      "2021-03-29 09:44:01,800 - INFO - System training device = cuda:0\n",
      "2021-03-29 09:44:01,800 - INFO - System CUDA version    = 11.1\n",
      "2021-03-29 09:44:01,801 - INFO - System CUDA count      = 8\n",
      "2021-03-29 09:44:01,813 - INFO - System CUDA name       = Tesla T4\n",
      "2021-03-29 09:44:01,814 - INFO - Path working directory = /home/ubuntu/master_thesis\n",
      "2021-03-29 09:44:01,814 - INFO - Path input data        = /mnt/data/ukbb_300x300_normalized\n",
      "2021-03-29 09:44:01,815 - INFO - Path to target train   = /home/ubuntu/master_thesis/data/ukbb_metadata_qc_test.csv\n",
      "2021-03-29 09:44:01,815 - INFO - Path model             = /home/ubuntu/master_thesis/output/models/ukbb-sex-nor-300x300_iv3-bs256-lr001.pth_best.pth\n"
     ]
    }
   ],
   "source": [
    "######################################################################################\n",
    "# Initial report\n",
    "logger.info(f\"System Python version  = {sys.version}\")\n",
    "logger.info(f\"System Pytorch version = {torch.__version__}\")\n",
    "logger.info(f\"System usable CPUs     = {os.cpu_count()}\")\n",
    "\n",
    "# Device setting and CUDA report \n",
    "logger.info(f\"System training device = {device}\")\n",
    "if  torch.cuda.is_available():\n",
    "    logger.info(f\"System CUDA version    = {torch.version.cuda}\")\n",
    "    logger.info(f\"System CUDA count      = {torch.cuda.device_count()}\")\n",
    "    logger.info(f\"System CUDA name       = {torch.cuda.get_device_name()}\")\n",
    "    \n",
    "# Load train and validation dataset\n",
    "logger.info(f\"Path working directory = {os.getcwd()}\")\n",
    "logger.info(f\"Path input data        = {data}\")\n",
    "logger.info(f\"Path to target train   = {target_test}\")\n",
    "logger.info(f\"Path model             = {model_pth}\")"
   ]
  },
  {
   "cell_type": "code",
   "execution_count": 7,
   "id": "invisible-premiere",
   "metadata": {},
   "outputs": [
    {
     "name": "stdout",
     "output_type": "stream",
     "text": [
      "2021-03-29 09:44:01,821 - INFO - Loading dataset\n",
      "2021-03-29 09:44:22,385 - INFO - Dataset size test       = 10910\n",
      "2021-03-29 09:44:22,387 - INFO - Dataset labels/classes  = ['female', 'male']\n"
     ]
    }
   ],
   "source": [
    "# Load dataset\n",
    "logger.info(f\"Loading dataset\")\n",
    "dataset = FundusDatasetRAM(imgs_dir=data, target_file=target_test, target=\"sex\", augment=False)\n",
    "\n",
    "# Get size\n",
    "# Get the size of the datsets train and valid(ation)\n",
    "size = len(dataset)\n",
    "logger.info(f\"Dataset size test       = {size}\")\n",
    "logger.info(f\"Dataset labels/classes  = {dataset.classes}\")"
   ]
  },
  {
   "cell_type": "code",
   "execution_count": 8,
   "id": "hairy-center",
   "metadata": {},
   "outputs": [
    {
     "name": "stdout",
     "output_type": "stream",
     "text": [
      "2021-03-29 09:44:22,393 - INFO - Setting dataloader\n"
     ]
    }
   ],
   "source": [
    "# Dataloader for train and valid(ation)\n",
    "logger.info(f\"Setting dataloader\")\n",
    "dataloader = DataLoader(dataset, batch_size=batch_size, shuffle=False,  num_workers=num_workers)#, pin_memory=True)"
   ]
  },
  {
   "cell_type": "code",
   "execution_count": 9,
   "id": "substantial-sewing",
   "metadata": {},
   "outputs": [
    {
     "name": "stdout",
     "output_type": "stream",
     "text": [
      "2021-03-29 09:44:24,145 - INFO - Model number of features = 2048\n",
      "2021-03-29 09:44:26,394 - INFO - Let's use 8 GPUs!\n",
      "2021-03-29 09:44:26,519 - INFO - All good\n"
     ]
    }
   ],
   "source": [
    "# Load model\n",
    "model = models.inception_v3(pretrained=False, aux_logits=False)\n",
    "\n",
    "# Get number of features in the model\n",
    "n_ftrs = model.fc.in_features\n",
    "logger.info(f\"Model number of features = {n_ftrs}\")\n",
    "\n",
    "# Add linear layer to the data\n",
    "model.fc = nn.Linear(n_ftrs, len(dataset.classes))\n",
    "\n",
    "######################################################################################\n",
    "# Send model to device, \n",
    "# if CUDA count is greater than 1 use multiple GPUs\n",
    "model = model.to(device)\n",
    "usable_devices =list(range(torch.cuda.device_count()))\n",
    "if torch.cuda.device_count() > 1:\n",
    "    model = nn.DataParallel(model, device_ids=usable_devices, output_device=device)\n",
    "    logger.info(f\"Let's use {torch.cuda.device_count()} GPUs!\")\n",
    "\n",
    "# Load state saved model\n",
    "model.load_state_dict(torch.load(model_pth, map_location=device), strict=False)\n",
    "\n",
    "# Set the model to evaluation only\n",
    "model.eval()\n",
    "logger.info(f\"All good\")"
   ]
  },
  {
   "cell_type": "code",
   "execution_count": 10,
   "id": "possible-grove",
   "metadata": {},
   "outputs": [
    {
     "name": "stderr",
     "output_type": "stream",
     "text": [
      "/home/ubuntu/master_thesis/src/predict.py:31: UserWarning: Implicit dimension choice for softmax has been deprecated. Change the call to include dim=X as an argument.\n",
      "  prob = sm(outputs)\n"
     ]
    }
   ],
   "source": [
    "# Predictions\n",
    "trues, predictions, probabilities = predict(model, dataloader, device)"
   ]
  },
  {
   "cell_type": "code",
   "execution_count": 11,
   "id": "hundred-holder",
   "metadata": {},
   "outputs": [
    {
     "data": {
      "text/plain": [
       "0.8289642529789184"
      ]
     },
     "execution_count": 11,
     "metadata": {},
     "output_type": "execute_result"
    }
   ],
   "source": [
    "# Get accuracy\n",
    "accuracy_score(trues, predictions)"
   ]
  },
  {
   "cell_type": "code",
   "execution_count": 12,
   "id": "selective-consolidation",
   "metadata": {},
   "outputs": [],
   "source": [
    "# Get the probability of the predictions\n",
    "reshaped_probs = np.reshape(probabilities, (len(trues),2))"
   ]
  },
  {
   "cell_type": "code",
   "execution_count": 13,
   "id": "center-pacific",
   "metadata": {},
   "outputs": [
    {
     "data": {
      "text/plain": [
       "0.9097405599147046"
      ]
     },
     "execution_count": 13,
     "metadata": {},
     "output_type": "execute_result"
    }
   ],
   "source": [
    "roc_auc_score(trues, reshaped_probs[:,1])"
   ]
  },
  {
   "cell_type": "code",
   "execution_count": 14,
   "id": "occupational-confirmation",
   "metadata": {},
   "outputs": [
    {
     "name": "stdout",
     "output_type": "stream",
     "text": [
      "0.9097405599147046\n"
     ]
    }
   ],
   "source": [
    "fpr, tpr, _ = roc_curve(trues, reshaped_probs[:,1])\n",
    "roc_auc = auc(fpr, tpr)\n",
    "print(roc_auc)"
   ]
  },
  {
   "cell_type": "code",
   "execution_count": 17,
   "id": "embedded-final",
   "metadata": {},
   "outputs": [
    {
     "data": {
      "image/png": "[encoded data removed]",
      "text/plain": [
       "<Figure size 504x432 with 1 Axes>"
      ]
     },
     "metadata": {},
     "output_type": "display_data"
    }
   ],
   "source": [
    "sns.set_style(\"whitegrid\")\n",
    "fig, ax = plt.subplots(1,1,figsize=(7, 6))\n",
    "\n",
    "lw = 2\n",
    "sns.lineplot(x=fpr, y=tpr, lw=lw, label=f'area = {roc_auc:.4f}', ax=ax)\n",
    "sns.lineplot(x=[0, 1], y=[0, 1], lw=lw, linestyle='--', ax=ax)\n",
    "sns.despine(left=True)\n",
    "\n",
    "plt.xlim([0.0, 1.05])\n",
    "plt.ylim([0.0, 1.05])\n",
    "plt.xlabel('False Positive Rate')\n",
    "plt.ylabel('True Positive Rate')\n",
    "plt.title('ROC curve - normalized CFPs')\n",
    "plt.legend(loc=\"lower right\")\n",
    "plt.show()\n",
    "fig.savefig(f\"./out/figures/auc-nor-bs256-001000.png\")\n",
    "fig.savefig(f\"./out/figures/auc-nor-bs256-001000.svg\")"
   ]
  },
  {
   "cell_type": "code",
   "execution_count": null,
   "id": "traditional-hollow",
   "metadata": {},
   "outputs": [],
   "source": []
  }
 ],
 "metadata": {
  "kernelspec": {
   "display_name": "Python 3",
   "language": "python",
   "name": "python3"
  },
  "language_info": {
   "codemirror_mode": {
    "name": "ipython",
    "version": 3
   },
   "file_extension": ".py",
   "mimetype": "text/x-python",
   "name": "python",
   "nbconvert_exporter": "python",
   "pygments_lexer": "ipython3",
   "version": "3.7.10"
  }
 },
 "nbformat": 4,
 "nbformat_minor": 5
}
