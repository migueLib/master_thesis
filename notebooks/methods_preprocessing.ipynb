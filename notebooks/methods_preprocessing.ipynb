{
 "cells": [
  {
   "cell_type": "code",
   "execution_count": 1,
   "metadata": {},
   "outputs": [],
   "source": [
    "# Imports\n",
    "import os\n",
    "import cv2\n",
    "import pandas as pd\n",
    "import matplotlib.pyplot as plt\n",
    "import concurrent.futures"
   ]
  },
  {
   "cell_type": "code",
   "execution_count": 2,
   "metadata": {},
   "outputs": [
    {
     "name": "stdout",
     "output_type": "stream",
     "text": [
      "/home/ubuntu/master_thesis\n"
     ]
    }
   ],
   "source": [
    "# Load local libraries\n",
    "# ROOT contais the project directory \n",
    "os.chdir(os.path.dirname(os.getcwd()))\n",
    "print(os.getcwd())"
   ]
  },
  {
   "cell_type": "code",
   "execution_count": 3,
   "metadata": {},
   "outputs": [],
   "source": [
    "# Local imports\n",
    "from src.Fundus import Fundus"
   ]
  },
  {
   "cell_type": "code",
   "execution_count": 4,
   "metadata": {},
   "outputs": [],
   "source": [
    "# Paths\n",
    "input_path = os.path.abspath(f\"/mnt/ukbb/raw/\")\n",
    "output_path = os.path.abspath(f\"/mnt/ukbb/raw_300x300/\")"
   ]
  },
  {
   "cell_type": "code",
   "execution_count": 13,
   "metadata": {},
   "outputs": [],
   "source": [
    "# Threshold\n",
    "thr = 2\n",
    "\n",
    "for x in os.listdir(input_path)[:10]:\n",
    "    # Get file path\n",
    "    file = os.path.join(input_path, x)#+\"as\")\n",
    "    \n",
    "    # Get fundus object\n",
    "    eye = Fundus(file)\n",
    "    \n",
    "    # Scale fundus to a given radius (in this case 700 pxls)\n",
    "    # Using a threshold of 2\n",
    "    eye.apply_scale_radius(700, thr)\n",
    "\n",
    "    # Resize\n",
    "    eye.apply_center_crop(1400, 1400)\n",
    "    \n",
    "    # Circular mask, slightly smaller to get rid of the whisk\n",
    "    # Using a threshold of 2\n",
    "    eye.apply_circular_mask(eye.get_radius(thr)*0.97)\n",
    "    \n",
    "    # Show\n",
    "    eye.show()\n",
    "    "
   ]
  },
  {
   "cell_type": "code",
   "execution_count": null,
   "metadata": {},
   "outputs": [],
   "source": []
  }
 ],
 "metadata": {
  "kernelspec": {
   "display_name": "Python 3",
   "language": "python",
   "name": "python3"
  },
  "language_info": {
   "codemirror_mode": {
    "name": "ipython",
    "version": 3
   },
   "file_extension": ".py",
   "mimetype": "text/x-python",
   "name": "python",
   "nbconvert_exporter": "python",
   "pygments_lexer": "ipython3",
   "version": "3.7.9"
  }
 },
 "nbformat": 4,
 "nbformat_minor": 4
}
