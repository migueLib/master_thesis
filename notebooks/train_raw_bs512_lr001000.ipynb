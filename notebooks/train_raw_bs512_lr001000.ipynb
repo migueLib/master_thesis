{
 "cells": [
  {
   "cell_type": "code",
   "execution_count": null,
   "metadata": {},
   "outputs": [],
   "source": [
    "import os\n",
    "from os.path import dirname, abspath, join\n",
    "\n",
    "import sys\n",
    "import torch\n",
    "from torch.utils.data import DataLoader\n",
    "from torchvision import datasets, models, transforms\n",
    "import torch.nn as nn\n",
    "import torch.nn.functional as F\n",
    "import torch.optim as optim"
   ]
  },
  {
   "cell_type": "code",
   "execution_count": null,
   "metadata": {},
   "outputs": [],
   "source": [
    "# Load local libraries\n",
    "# ROOT contais the project directory \n",
    "os.chdir(dirname(os.getcwd()))\n",
    "os.getcwd()"
   ]
  },
  {
   "cell_type": "code",
   "execution_count": null,
   "metadata": {},
   "outputs": [],
   "source": [
    "# Import local libraries\n",
    "from src.logger import set_logger as sl\n",
    "\n",
    "# Load transformations\n",
    "from src.transformations.CC_RRC_RVF_RHF_RA import get_transform as gt_train\n",
    "from src.transformations.CC_R import get_transform as gt_valid\n",
    "from src.dataset import FundusDataset\n",
    "from src.RAMdatset import FundusDatasetRAM\n",
    "from src.plot_images import plot_images\n",
    "from src.train_validation import train_validation_phase"
   ]
  },
  {
   "cell_type": "code",
   "execution_count": null,
   "metadata": {},
   "outputs": [],
   "source": [
    "# Set-up logger\n",
    "try:\n",
    "    if logger is None:\n",
    "        logger = sl(\"info\")\n",
    "except:\n",
    "    logger = sl(\"info\")"
   ]
  },
  {
   "cell_type": "markdown",
   "metadata": {},
   "source": [
    "# Parameters"
   ]
  },
  {
   "cell_type": "code",
   "execution_count": null,
   "metadata": {},
   "outputs": [],
   "source": [
    "# Put data\n",
    "epochs        = 100\n",
    "lr            = 0.001\n",
    "batch_size    = 512\n",
    "\n",
    "num_workers   = os.cpu_count()\n",
    "\n",
    "is_pretrained = False\n",
    "\n",
    "im_size       = (300, 300)\n",
    "is_grayscale  = False\n",
    "\n",
    "data          = abspath('/mnt/data/ukbb_300x300/')\n",
    "target_train  = abspath('./data/ukbb_metadata_qc_train.csv')\n",
    "target_valid  = abspath('./data/ukbb_metadata_qc_validation.csv')\n",
    "\n",
    "name = f\"raw-bs{batch_size}-lr{str(lr)[2:]}\"\n",
    "\n",
    "model_pth     = abspath(f'./output/models/{name}.pth')\n",
    "\n",
    "device        = torch.device(\"cuda:0\" if torch.cuda.is_available() else \"cpu\")"
   ]
  },
  {
   "cell_type": "code",
   "execution_count": null,
   "metadata": {},
   "outputs": [],
   "source": [
    "######################################################################################\n",
    "# Initial report\n",
    "logger.info(f\"System Python version  = {sys.version}\")\n",
    "logger.info(f\"System Pytorch version = {torch.__version__}\")\n",
    "logger.info(f\"System usable CPUs     = {os.cpu_count()}\")\n",
    "\n",
    "# Device setting and CUDA report \n",
    "logger.info(f\"System training device = {device}\")\n",
    "if  torch.cuda.is_available():\n",
    "    logger.info(f\"System CUDA version    = {torch.version.cuda}\")\n",
    "    logger.info(f\"System CUDA count      = {torch.cuda.device_count()}\")\n",
    "    logger.info(f\"System CUDA name       = {torch.cuda.get_device_name()}\")\n",
    "    \n",
    "# Load train and validation dataset\n",
    "logger.info(f\"Path working directory = {os.getcwd()}\")\n",
    "logger.info(f\"Path input data        = {data}\")\n",
    "logger.info(f\"Path to target train   = {target_train}\")\n",
    "logger.info(f\"Path to target valid   = {target_valid}\")\n",
    "logger.info(f\"Path model             = {model_pth}\")\n",
    "\n",
    "# Starting momentum and learning rate\n",
    "logger.info(f\"Model learning rate    = {lr}\")\n",
    "logger.info(f\"Model batch_size       = {batch_size}\")\n",
    "logger.info(f\"Model num_workers      = {num_workers}\")\n",
    "logger.info(f\"Model pretrained       = {is_pretrained}\")"
   ]
  },
  {
   "cell_type": "markdown",
   "metadata": {},
   "source": [
    "# Dataset"
   ]
  },
  {
   "cell_type": "code",
   "execution_count": null,
   "metadata": {},
   "outputs": [],
   "source": [
    "#imgs_dir=None, target_file=None, scale=1, target_size=512, augment=True\n",
    "logger.info(f\"Loading datasets\")\n",
    "dataset = dict()\n",
    "dataset[\"train\"] = FundusDatasetRAM(imgs_dir=data, target_file=target_train, target=\"sex\", augment=True)\n",
    "dataset[\"valid\"] = FundusDatasetRAM(imgs_dir=data, target_file=target_valid, target=\"sex\", augment=False)\n",
    "\n",
    "# Get the size of the datsets train and valid(ation)\n",
    "size = dict()\n",
    "size[\"train\"] = len(dataset[\"train\"])\n",
    "size[\"valid\"] = len(dataset[\"valid\"])\n",
    "logger.info(f\"Dataset size training   = {size['train']}\")\n",
    "logger.info(f\"Dataset size validation = {size['valid']}\")\n",
    "logger.info(f\"Dataset labels/classes  = {dataset['train'].classes}\")"
   ]
  },
  {
   "cell_type": "code",
   "execution_count": null,
   "metadata": {},
   "outputs": [],
   "source": [
    "# Dataloader for train and valid(ation)\n",
    "logger.info(f\"Loading dataloaders\")\n",
    "dataloader = dict()\n",
    "dataloader[\"train\"] = DataLoader(dataset[\"train\"], batch_size=batch_size, shuffle=True,  num_workers=num_workers, pin_memory=True)\n",
    "dataloader[\"valid\"] = DataLoader(dataset[\"valid\"], batch_size=batch_size, shuffle=False, num_workers=num_workers, pin_memory=False)\n",
    "\n",
    "######################################################################################\n",
    "# Get sample images\n",
    "logger.info(f\"Plot sample images\")\n",
    "plot_images(dataloader[\"valid\"], dataset[\"valid\"].classes, title=\"Sample Fundus\", save=name)"
   ]
  },
  {
   "cell_type": "code",
   "execution_count": null,
   "metadata": {},
   "outputs": [],
   "source": [
    "# Load model\n",
    "model = models.inception_v3(pretrained=is_pretrained,\n",
    "                            aux_logits=False)\n",
    "\n",
    "logger.info(f\"Model loading            = {model.__class__.__name__}\")\n",
    "\n",
    "# Get number of features in the model\n",
    "n_ftrs = model.fc.in_features\n",
    "logger.info(f\"Model number of features = {n_ftrs}\")\n",
    "\n",
    "# Add linear layer to the data\n",
    "model.fc = nn.Linear(n_ftrs, len(dataset[\"train\"].classes))\n",
    "\n",
    "######################################################################################\n",
    "# Send model to device, \n",
    "# if CUDA count is greater than 1 use multiple GPUs\n",
    "model = model.to(device)\n",
    "usable_devices =list(range(torch.cuda.device_count()))\n",
    "if torch.cuda.device_count() > 1:\n",
    "    model = nn.DataParallel(model, device_ids=usable_devices, output_device=device)\n",
    "    logger.info(f\"Let's use {torch.cuda.device_count()} GPUs!\")\n",
    "\n",
    "######################################################################################\n",
    "# Get Optimization and crossentropy\n",
    "criterion = nn.CrossEntropyLoss()\n",
    "\n",
    "#optimizer = optim.SGD(model.parameters(), lr=learning_rate, momentum=momentum)\n",
    "optimizer = optim.Adam(model.parameters(), lr=lr, betas=(0.9, 0.999))\n",
    "\n",
    "######################################################################################\n",
    "results = train_validation_phase(model=model,\n",
    "                               dataset=dataset,\n",
    "                               dataloader = dataloader,\n",
    "                               device=device,\n",
    "                               epochs=epochs,\n",
    "                               criterion=criterion,\n",
    "                               optimizer=optimizer,\n",
    "                               save = model_pth,\n",
    "                               logger=logger)"
   ]
  },
  {
   "cell_type": "code",
   "execution_count": null,
   "metadata": {},
   "outputs": [],
   "source": []
  }
 ],
 "metadata": {
  "kernelspec": {
   "display_name": "Python 3",
   "language": "python",
   "name": "python3"
  },
  "language_info": {
   "codemirror_mode": {
    "name": "ipython",
    "version": 3
   },
   "file_extension": ".py",
   "mimetype": "text/x-python",
   "name": "python",
   "nbconvert_exporter": "python",
   "pygments_lexer": "ipython3",
   "version": "3.7.10"
  }
 },
 "nbformat": 4,
 "nbformat_minor": 4
}
