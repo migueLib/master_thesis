{
 "cells": [
  {
   "cell_type": "markdown",
   "metadata": {},
   "source": [
    "# Create links from the Normalized files location to the /data directory"
   ]
  },
  {
   "cell_type": "code",
   "execution_count": 1,
   "metadata": {},
   "outputs": [],
   "source": [
    "import os\n",
    "import pickle\n",
    "import shutil\n",
    "from pathlib import Path"
   ]
  },
  {
   "cell_type": "code",
   "execution_count": 2,
   "metadata": {},
   "outputs": [
    {
     "name": "stdout",
     "output_type": "stream",
     "text": [
      "/home/ubuntu/master_thesis\n"
     ]
    }
   ],
   "source": [
    "# Set working directory\n",
    "os.chdir(os.path.dirname(os.getcwd()))\n",
    "print(os.getcwd())"
   ]
  },
  {
   "cell_type": "code",
   "execution_count": 3,
   "metadata": {},
   "outputs": [],
   "source": [
    "# Import local libraries\n",
    "from src.logger import set_logger as sl\n",
    "from src.link_files import link_files"
   ]
  },
  {
   "cell_type": "code",
   "execution_count": 4,
   "metadata": {},
   "outputs": [],
   "source": [
    "# Load list of image's IDs\n",
    "with open(\"data/pickles/train-females.pkl\", \"rb\") as f:\n",
    "    train_female = pickle.load(f)\n",
    "\n",
    "with open(\"data/pickles/validation-females.pkl\", \"rb\") as f:\n",
    "    validation_female = pickle.load(f)\n",
    "\n",
    "with open(\"data/pickles/test-females.pkl\", \"rb\") as f:\n",
    "    test_female = pickle.load(f)\n",
    "\n",
    "with open(\"data/pickles/train-males.pkl\", \"rb\") as f:\n",
    "    train_male = pickle.load(f)\n",
    "\n",
    "with open(\"data/pickles/validation-males.pkl\", \"rb\") as f:\n",
    "    validation_male = pickle.load(f)\n",
    "\n",
    "with open(\"data/pickles/test-males.pkl\", \"rb\") as f:\n",
    "    test_male = pickle.load(f)"
   ]
  },
  {
   "cell_type": "code",
   "execution_count": 5,
   "metadata": {},
   "outputs": [],
   "source": [
    "# Lets create links from \n",
    "source = os.path.abspath(\"/mnt/ukbb/normalized/\")\n",
    "\n",
    "# to\n",
    "dest = os.path.abspath(\"data/normalized/\")"
   ]
  },
  {
   "cell_type": "code",
   "execution_count": 6,
   "metadata": {},
   "outputs": [
    {
     "name": "stderr",
     "output_type": "stream",
     "text": [
      "100%|██████████| 70000/70000 [00:00<00:00, 72724.56it/s]\n",
      "100%|██████████| 70000/70000 [00:00<00:00, 74424.02it/s]\n",
      "100%|██████████| 11876/11876 [00:00<00:00, 50806.71it/s]\n",
      "100%|██████████| 5616/5616 [00:00<00:00, 82835.01it/s]\n",
      "100%|██████████| 11877/11877 [00:00<00:00, 79452.48it/s]\n",
      "100%|██████████| 5617/5617 [00:00<00:00, 84813.79it/s]\n"
     ]
    }
   ],
   "source": [
    "# Link files from source directory to destination using a list of file names\n",
    "# Train data\n",
    "link_files(source, dest+\"/train/female\", train_female)\n",
    "link_files(source, dest+\"/train/male\", train_male)\n",
    "\n",
    "# Validation data\n",
    "link_files(source, dest+\"/validation/female\", validation_female)\n",
    "link_files(source, dest+\"/validation/male\", validation_male)\n",
    "\n",
    "# Test data\n",
    "link_files(source, dest+\"/test/female\", test_female)\n",
    "link_files(source, dest+\"/test/male\", test_male)"
   ]
  },
  {
   "cell_type": "code",
   "execution_count": null,
   "metadata": {},
   "outputs": [],
   "source": []
  }
 ],
 "metadata": {
  "kernelspec": {
   "display_name": "Python 3",
   "language": "python",
   "name": "python3"
  },
  "language_info": {
   "codemirror_mode": {
    "name": "ipython",
    "version": 3
   },
   "file_extension": ".py",
   "mimetype": "text/x-python",
   "name": "python",
   "nbconvert_exporter": "python",
   "pygments_lexer": "ipython3",
   "version": "3.7.9"
  }
 },
 "nbformat": 4,
 "nbformat_minor": 4
}
