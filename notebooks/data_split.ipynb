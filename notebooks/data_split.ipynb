{
 "cells": [
  {
   "cell_type": "code",
   "execution_count": 51,
   "metadata": {},
   "outputs": [],
   "source": [
    "import os\n",
    "import pickle\n",
    "import pandas as pd\n",
    "from tqdm import tqdm\n",
    "from sklearn.model_selection import train_test_split"
   ]
  },
  {
   "cell_type": "code",
   "execution_count": 2,
   "metadata": {},
   "outputs": [
    {
     "name": "stdout",
     "output_type": "stream",
     "text": [
      "/home/ubuntu/master_thesis\n"
     ]
    }
   ],
   "source": [
    "#Load local libraries\n",
    "# ROOT contais the project directory \n",
    "os.chdir(os.path.dirname(os.getcwd()))\n",
    "print(os.getcwd())"
   ]
  },
  {
   "cell_type": "code",
   "execution_count": 52,
   "metadata": {},
   "outputs": [],
   "source": [
    "from src.get_info_from_name import get_info_from_name"
   ]
  },
  {
   "cell_type": "code",
   "execution_count": 53,
   "metadata": {},
   "outputs": [],
   "source": [
    "# Load all-females/males\n",
    "with open(\"/home/ubuntu/master_thesis/data/pickles/all-females.pkl\", \"rb\") as f:\n",
    "    females = pickle.load(f)\n",
    "\n",
    "with open(\"/home/ubuntu/master_thesis/data/pickles/all-males.pkl\", \"rb\") as f:\n",
    "    males = pickle.load(f)"
   ]
  },
  {
   "cell_type": "code",
   "execution_count": 54,
   "metadata": {},
   "outputs": [
    {
     "name": "stdout",
     "output_type": "stream",
     "text": [
      "93753\n",
      "81233\n",
      "174986\n",
      "140000 0.8000640051204096\n",
      "34986 0.19993599487959038\n",
      "23753\n",
      "11233\n",
      "0.67892871434288\n",
      "0.32107128565712\n"
     ]
    }
   ],
   "source": [
    "# Let's split the data\n",
    "print(len(females))\n",
    "print(len(males))\n",
    "print(len(females)+len(males))\n",
    "\n",
    "# For the training dataset let's use 80% of the data \n",
    "# while using 10% and 10% for finetune and test\n",
    "print(140000, 140000/(len(females)+len(males)))\n",
    "print(174986-140000, (174986-140000)/174986)\n",
    "\n",
    "# Using 140,000 images would correspond to 80% of the data\n",
    "# For a balanced training set let's use 70,000 males and 70,000 females\n",
    "print(len(females) -70000)\n",
    "print(len(males) - 70000)\n",
    "\n",
    "# This will leave a total of 23,753 femalesand 11,233 males for validation/test\n",
    "print(23753/34986)\n",
    "print(11233/34986)\n",
    "# This will correspond to a 67.89% of females and 32.1% of males."
   ]
  },
  {
   "cell_type": "code",
   "execution_count": 55,
   "metadata": {},
   "outputs": [],
   "source": [
    "# Let's split female's images\n",
    "females_train, females_test = train_test_split(females, train_size=70000, random_state=42)"
   ]
  },
  {
   "cell_type": "code",
   "execution_count": 56,
   "metadata": {},
   "outputs": [
    {
     "name": "stdout",
     "output_type": "stream",
     "text": [
      "70000\n",
      "23753\n"
     ]
    }
   ],
   "source": [
    "print(len(females_train))\n",
    "print(len(females_test))"
   ]
  },
  {
   "cell_type": "code",
   "execution_count": 57,
   "metadata": {},
   "outputs": [],
   "source": [
    "# Let's split male's images\n",
    "males_train, males_test = train_test_split(males, train_size=70000, random_state=42)"
   ]
  },
  {
   "cell_type": "code",
   "execution_count": 58,
   "metadata": {},
   "outputs": [
    {
     "name": "stdout",
     "output_type": "stream",
     "text": [
      "70000\n",
      "11233\n"
     ]
    }
   ],
   "source": [
    "print(len(males_train))\n",
    "print(len(males_test))"
   ]
  },
  {
   "cell_type": "code",
   "execution_count": 59,
   "metadata": {},
   "outputs": [],
   "source": [
    "# Now let's split females_test and males_test into validation and test  on a 50:50 manner\n",
    "females_validation, females_test = train_test_split(females_test, test_size=0.5, random_state=42)\n",
    "males_validation, males_test = train_test_split(males_test, test_size=0.5, random_state=42)"
   ]
  },
  {
   "cell_type": "code",
   "execution_count": 60,
   "metadata": {},
   "outputs": [
    {
     "name": "stdout",
     "output_type": "stream",
     "text": [
      "11876\n",
      "11877\n",
      "23753\n"
     ]
    }
   ],
   "source": [
    "print(len(females_validation))\n",
    "print(len(females_test))\n",
    "print(len(females_validation)+len(females_test))"
   ]
  },
  {
   "cell_type": "code",
   "execution_count": 61,
   "metadata": {},
   "outputs": [
    {
     "name": "stdout",
     "output_type": "stream",
     "text": [
      "5616\n",
      "5617\n",
      "11233\n"
     ]
    }
   ],
   "source": [
    "print(len(males_validation))\n",
    "print(len(males_test))\n",
    "print(len(males_validation)+len(males_test))"
   ]
  },
  {
   "cell_type": "code",
   "execution_count": 62,
   "metadata": {},
   "outputs": [],
   "source": [
    "# Save to pickle lists of id's for train, finetune and test\n",
    "with open(\"data/pickles/train-females.pkl\", \"wb\") as f:\n",
    "    pickle.dump(females_train, f)\n",
    "\n",
    "with open(\"data/pickles/validation-females.pkl\", \"wb\") as f:\n",
    "    pickle.dump(females_validation, f)\n",
    "\n",
    "with open(\"data/pickles/test-females.pkl\", \"wb\") as f:\n",
    "    pickle.dump(females_test, f)\n",
    "\n",
    "with open(\"data/pickles/train-males.pkl\", \"wb\") as f:\n",
    "    pickle.dump(males_train, f)\n",
    "\n",
    "with open(\"data/pickles/validation-males.pkl\", \"wb\") as f:\n",
    "    pickle.dump(males_validation, f)\n",
    "\n",
    "with open(\"data/pickles/test-males.pkl\", \"wb\") as f:\n",
    "    pickle.dump(males_test, f)\n"
   ]
  }
 ],
 "metadata": {
  "kernelspec": {
   "display_name": "Python 3",
   "language": "python",
   "name": "python3"
  },
  "language_info": {
   "codemirror_mode": {
    "name": "ipython",
    "version": 3
   },
   "file_extension": ".py",
   "mimetype": "text/x-python",
   "name": "python",
   "nbconvert_exporter": "python",
   "pygments_lexer": "ipython3",
   "version": "3.7.9"
  }
 },
 "nbformat": 4,
 "nbformat_minor": 4
}
