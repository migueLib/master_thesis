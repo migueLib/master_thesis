{
 "cells": [
  {
   "cell_type": "code",
   "execution_count": null,
   "metadata": {},
   "outputs": [],
   "source": [
    "import os\n",
    "import numpy as np\n",
    "from PIL import Image, ImageDraw\n",
    "from torch.utils.data import DataLoader\n",
    "import matplotlib.pyplot as plt\n",
    "import torchvision\n",
    "from torchvision import datasets, models, transforms"
   ]
  },
  {
   "cell_type": "code",
   "execution_count": null,
   "metadata": {},
   "outputs": [],
   "source": [
    "# Load local libraries\n",
    "# ROOT contais the project directory \n",
    "os.chdir(os.path.dirname(os.getcwd()))\n",
    "os.getcwd()"
   ]
  },
  {
   "cell_type": "code",
   "execution_count": null,
   "metadata": {},
   "outputs": [],
   "source": [
    "# Import local libraries\n",
    "from src.transformations.CC_RRC_RVF_RHF_RA import get_transform as gt_train\n",
    "from src.transformations.CC_R import get_transform as gt_valid\n",
    "from src.plot_images import plot_images"
   ]
  },
  {
   "cell_type": "markdown",
   "metadata": {},
   "source": [
    "# Data Augmentation"
   ]
  },
  {
   "cell_type": "markdown",
   "metadata": {},
   "source": [
    "In deep learning data augmentation refers to the set of techniques used to increase the ammount of data available for training a model.  \n",
    "Data augmentation can be  either achieved by modification of pre-existing images or by creating synthetic images.  \n",
    "Data augmentation helps against two main problems: It helps regularize data and helps reduce overfitting of the model. \n",
    "\n",
    "For this project we will mainly focus on image transformation such as:\n",
    "- flipping\n",
    "- color modification\n",
    "- cropping\n",
    "- rotation\n",
    "- noise injection"
   ]
  },
  {
   "cell_type": "markdown",
   "metadata": {},
   "source": [
    "# Individual Transformations"
   ]
  },
  {
   "cell_type": "code",
   "execution_count": null,
   "metadata": {},
   "outputs": [],
   "source": []
  },
  {
   "cell_type": "code",
   "execution_count": null,
   "metadata": {},
   "outputs": [],
   "source": []
  },
  {
   "cell_type": "markdown",
   "metadata": {},
   "source": [
    "# No Cropping"
   ]
  },
  {
   "cell_type": "code",
   "execution_count": null,
   "metadata": {},
   "outputs": [],
   "source": [
    "is_grayscale = False\n",
    "im_size = 300\n",
    "crop_size = None\n",
    "batch_size = 8\n",
    "num_workers = 8\n",
    "train_pth = \"data/normalized/tiny/\"\n",
    "\n",
    "dataset = datasets.ImageFolder(train_pth, gt_train(crop_size=crop_size, resize=im_size, grayscale=is_grayscale))\n",
    "dataloader = DataLoader(dataset, batch_size=batch_size, shuffle=True, num_workers=num_workers, pin_memory=True)\n",
    "plot_images(dataloader, dataset.classes)"
   ]
  },
  {
   "cell_type": "markdown",
   "metadata": {},
   "source": [
    "# Center crop -  keeping height intact  (1536*1536)"
   ]
  },
  {
   "cell_type": "code",
   "execution_count": null,
   "metadata": {},
   "outputs": [],
   "source": [
    "is_grayscale = False\n",
    "im_size = 300\n",
    "crop_size = 1536\n",
    "batch_size = 8\n",
    "num_workers = 8\n",
    "train_pth = \"data/raw/train/\"\n",
    "\n",
    "dataset = datasets.ImageFolder(train_pth, gt_train(crop_size=crop_size, resize=im_size, grayscale=is_grayscale))\n",
    "dataloader = DataLoader(dataset, batch_size=batch_size, shuffle=True, num_workers=num_workers, pin_memory=True)\n",
    "plot_images(dataloader, dataset.classes)"
   ]
  },
  {
   "cell_type": "markdown",
   "metadata": {},
   "source": [
    "# Center crop - further 100 pxls  (1436*1436)"
   ]
  },
  {
   "cell_type": "code",
   "execution_count": null,
   "metadata": {},
   "outputs": [],
   "source": [
    "is_grayscale = False\n",
    "im_size = 300\n",
    "crop_size = 1436\n",
    "batch_size = 8\n",
    "num_workers = 8\n",
    "train_pth = \"data/raw/train/\"\n",
    "\n",
    "dataset = datasets.ImageFolder(train_pth, gt_train(crop_size=crop_size, resize=im_size, grayscale=is_grayscale))\n",
    "dataloader = DataLoader(dataset, batch_size=batch_size, shuffle=True, num_workers=num_workers, pin_memory=True)\n",
    "plot_images(dataloader, dataset.classes)"
   ]
  },
  {
   "cell_type": "markdown",
   "metadata": {},
   "source": [
    "# Center crop - further 200 pxls (1336*1336)"
   ]
  },
  {
   "cell_type": "code",
   "execution_count": null,
   "metadata": {},
   "outputs": [],
   "source": [
    "is_grayscale = False\n",
    "im_size = 300\n",
    "crop_size = 1336\n",
    "batch_size = 8\n",
    "num_workers = 8\n",
    "train_pth = \"data/raw/train/\"\n",
    "\n",
    "dataset = datasets.ImageFolder(train_pth, gt_train(crop_size=crop_size, resize=im_size, grayscale=is_grayscale))\n",
    "dataloader = DataLoader(dataset, batch_size=batch_size, shuffle=True, num_workers=num_workers, pin_memory=True)\n",
    "plot_images(dataloader, dataset.classes)"
   ]
  }
 ],
 "metadata": {
  "kernelspec": {
   "display_name": "Python 3",
   "language": "python",
   "name": "python3"
  },
  "language_info": {
   "codemirror_mode": {
    "name": "ipython",
    "version": 3
   },
   "file_extension": ".py",
   "mimetype": "text/x-python",
   "name": "python",
   "nbconvert_exporter": "python",
   "pygments_lexer": "ipython3",
   "version": "3.7.9"
  }
 },
 "nbformat": 4,
 "nbformat_minor": 4
}
